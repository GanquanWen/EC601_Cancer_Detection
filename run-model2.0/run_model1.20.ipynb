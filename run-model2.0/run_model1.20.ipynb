{
 "cells": [
  {
   "cell_type": "code",
   "execution_count": 253,
   "metadata": {
    "scrolled": true
   },
   "outputs": [],
   "source": [
    "from sklearn.feature_extraction.text import CountVectorizer\n",
    "import pandas as pd\n",
    "from sklearn.neighbors import KNeighborsClassifier\n",
    "from sklearn.naive_bayes import MultinomialNB\n",
    "from sklearn.linear_model import LogisticRegression\n",
    "from sklearn.cross_validation import cross_val_score\n",
    "from sklearn.feature_extraction.text import TfidfVectorizer\n",
    "from sklearn.model_selection import KFold\n",
    "import sklearn.pipeline as pipe\n",
    "from sklearn.cross_validation import train_test_split\n",
    "from sklearn import metrics\n",
    "from sklearn.svm import SVC\n",
    "import nltk"
   ]
  },
  {
   "cell_type": "code",
   "execution_count": 262,
   "metadata": {
    "scrolled": true
   },
   "outputs": [],
   "source": [
    "#using pandas to import the original training_text and traning_variant\n",
    "sms = pd.read_table('training__frequent2_text.txt', encoding= 'UTF8', sep=\"\\\\|\\\\|\",header=None, engine='python', names=['cli_data'])\n",
    "sms2= pd.read_table('training_variants.txt', encoding= 'UTF8', header=None,delimiter=',', engine='python', names=['gene','mutation','classification'])"
   ]
  },
  {
   "cell_type": "code",
   "execution_count": 263,
   "metadata": {
    "scrolled": true
   },
   "outputs": [
    {
     "data": {
      "text/plain": [
       "(3321, 1)"
      ]
     },
     "execution_count": 263,
     "metadata": {},
     "output_type": "execute_result"
    }
   ],
   "source": [
    "sms.shape"
   ]
  },
  {
   "cell_type": "code",
   "execution_count": 264,
   "metadata": {
    "scrolled": true
   },
   "outputs": [
    {
     "data": {
      "text/plain": [
       "pandas.core.frame.DataFrame"
      ]
     },
     "execution_count": 264,
     "metadata": {},
     "output_type": "execute_result"
    }
   ],
   "source": [
    "#a glimpse of the type, doesn't matter\n",
    "type(sms)"
   ]
  },
  {
   "cell_type": "code",
   "execution_count": 265,
   "metadata": {
    "scrolled": true
   },
   "outputs": [
    {
     "data": {
      "text/plain": [
       "(3321, 3)"
      ]
     },
     "execution_count": 265,
     "metadata": {},
     "output_type": "execute_result"
    }
   ],
   "source": [
    "sms2.shape"
   ]
  },
  {
   "cell_type": "code",
   "execution_count": 266,
   "metadata": {
    "scrolled": true
   },
   "outputs": [
    {
     "data": {
      "text/html": [
       "<div>\n",
       "<style>\n",
       "    .dataframe thead tr:only-child th {\n",
       "        text-align: right;\n",
       "    }\n",
       "\n",
       "    .dataframe thead th {\n",
       "        text-align: left;\n",
       "    }\n",
       "\n",
       "    .dataframe tbody tr th {\n",
       "        vertical-align: top;\n",
       "    }\n",
       "</style>\n",
       "<table border=\"1\" class=\"dataframe\">\n",
       "  <thead>\n",
       "    <tr style=\"text-align: right;\">\n",
       "      <th></th>\n",
       "      <th>cli_data</th>\n",
       "    </tr>\n",
       "  </thead>\n",
       "  <tbody>\n",
       "    <tr>\n",
       "      <th>0</th>\n",
       "      <td>Cyclin kinases CDKs regulate variety fundament...</td>\n",
       "    </tr>\n",
       "    <tr>\n",
       "      <th>1</th>\n",
       "      <td>Abstract Background Non lung NSCLC heterogeneo...</td>\n",
       "    </tr>\n",
       "    <tr>\n",
       "      <th>2</th>\n",
       "      <td>Abstract Background Non lung NSCLC heterogeneo...</td>\n",
       "    </tr>\n",
       "    <tr>\n",
       "      <th>3</th>\n",
       "      <td>Recent uniparental disomy aUPD pathogenetic ho...</td>\n",
       "    </tr>\n",
       "    <tr>\n",
       "      <th>4</th>\n",
       "      <td>Oncogenic monomeric Casitas B lineage lymphoma...</td>\n",
       "    </tr>\n",
       "    <tr>\n",
       "      <th>5</th>\n",
       "      <td>Oncogenic monomeric Casitas B lineage lymphoma...</td>\n",
       "    </tr>\n",
       "    <tr>\n",
       "      <th>6</th>\n",
       "      <td>Oncogenic monomeric Casitas B lineage lymphoma...</td>\n",
       "    </tr>\n",
       "    <tr>\n",
       "      <th>7</th>\n",
       "      <td>CBL regulator tyrosine kinases RTK In CBL acut...</td>\n",
       "    </tr>\n",
       "    <tr>\n",
       "      <th>8</th>\n",
       "      <td>Abstract Juvenile myelomonocytic leukemia JMML...</td>\n",
       "    </tr>\n",
       "    <tr>\n",
       "      <th>9</th>\n",
       "      <td>Abstract Juvenile myelomonocytic leukemia JMML...</td>\n",
       "    </tr>\n",
       "  </tbody>\n",
       "</table>\n",
       "</div>"
      ],
      "text/plain": [
       "                                            cli_data\n",
       "0  Cyclin kinases CDKs regulate variety fundament...\n",
       "1  Abstract Background Non lung NSCLC heterogeneo...\n",
       "2  Abstract Background Non lung NSCLC heterogeneo...\n",
       "3  Recent uniparental disomy aUPD pathogenetic ho...\n",
       "4  Oncogenic monomeric Casitas B lineage lymphoma...\n",
       "5  Oncogenic monomeric Casitas B lineage lymphoma...\n",
       "6  Oncogenic monomeric Casitas B lineage lymphoma...\n",
       "7  CBL regulator tyrosine kinases RTK In CBL acut...\n",
       "8  Abstract Juvenile myelomonocytic leukemia JMML...\n",
       "9  Abstract Juvenile myelomonocytic leukemia JMML..."
      ]
     },
     "execution_count": 266,
     "metadata": {},
     "output_type": "execute_result"
    }
   ],
   "source": [
    "#the first 10 lines of the text file\n",
    "sms.head(10)"
   ]
  },
  {
   "cell_type": "code",
   "execution_count": 267,
   "metadata": {
    "scrolled": true
   },
   "outputs": [
    {
     "data": {
      "text/html": [
       "<div>\n",
       "<style>\n",
       "    .dataframe thead tr:only-child th {\n",
       "        text-align: right;\n",
       "    }\n",
       "\n",
       "    .dataframe thead th {\n",
       "        text-align: left;\n",
       "    }\n",
       "\n",
       "    .dataframe tbody tr th {\n",
       "        vertical-align: top;\n",
       "    }\n",
       "</style>\n",
       "<table border=\"1\" class=\"dataframe\">\n",
       "  <thead>\n",
       "    <tr style=\"text-align: right;\">\n",
       "      <th></th>\n",
       "      <th>gene</th>\n",
       "      <th>mutation</th>\n",
       "      <th>classification</th>\n",
       "    </tr>\n",
       "  </thead>\n",
       "  <tbody>\n",
       "    <tr>\n",
       "      <th>0</th>\n",
       "      <td>FAM58A</td>\n",
       "      <td>Truncating Mutations</td>\n",
       "      <td>1</td>\n",
       "    </tr>\n",
       "    <tr>\n",
       "      <th>1</th>\n",
       "      <td>CBL</td>\n",
       "      <td>W802*</td>\n",
       "      <td>2</td>\n",
       "    </tr>\n",
       "    <tr>\n",
       "      <th>2</th>\n",
       "      <td>CBL</td>\n",
       "      <td>Q249E</td>\n",
       "      <td>2</td>\n",
       "    </tr>\n",
       "    <tr>\n",
       "      <th>3</th>\n",
       "      <td>CBL</td>\n",
       "      <td>N454D</td>\n",
       "      <td>3</td>\n",
       "    </tr>\n",
       "    <tr>\n",
       "      <th>4</th>\n",
       "      <td>CBL</td>\n",
       "      <td>L399V</td>\n",
       "      <td>4</td>\n",
       "    </tr>\n",
       "    <tr>\n",
       "      <th>5</th>\n",
       "      <td>CBL</td>\n",
       "      <td>V391I</td>\n",
       "      <td>4</td>\n",
       "    </tr>\n",
       "    <tr>\n",
       "      <th>6</th>\n",
       "      <td>CBL</td>\n",
       "      <td>V430M</td>\n",
       "      <td>5</td>\n",
       "    </tr>\n",
       "    <tr>\n",
       "      <th>7</th>\n",
       "      <td>CBL</td>\n",
       "      <td>Deletion</td>\n",
       "      <td>1</td>\n",
       "    </tr>\n",
       "    <tr>\n",
       "      <th>8</th>\n",
       "      <td>CBL</td>\n",
       "      <td>Y371H</td>\n",
       "      <td>4</td>\n",
       "    </tr>\n",
       "    <tr>\n",
       "      <th>9</th>\n",
       "      <td>CBL</td>\n",
       "      <td>C384R</td>\n",
       "      <td>4</td>\n",
       "    </tr>\n",
       "  </tbody>\n",
       "</table>\n",
       "</div>"
      ],
      "text/plain": [
       "     gene              mutation  classification\n",
       "0  FAM58A  Truncating Mutations               1\n",
       "1     CBL                 W802*               2\n",
       "2     CBL                 Q249E               2\n",
       "3     CBL                 N454D               3\n",
       "4     CBL                 L399V               4\n",
       "5     CBL                 V391I               4\n",
       "6     CBL                 V430M               5\n",
       "7     CBL              Deletion               1\n",
       "8     CBL                 Y371H               4\n",
       "9     CBL                 C384R               4"
      ]
     },
     "execution_count": 267,
     "metadata": {},
     "output_type": "execute_result"
    }
   ],
   "source": [
    "#first 10 lines of the variants file\n",
    "sms2.head(10)"
   ]
  },
  {
   "cell_type": "code",
   "execution_count": 268,
   "metadata": {
    "scrolled": false
   },
   "outputs": [
    {
     "name": "stdout",
     "output_type": "stream",
     "text": [
      "{7: 0.2878284506191483, 4: 0.20718816067653276, 1: 0.17154938085170643, 2: 0.13651464814255512, 6: 0.083056478405315617, 5: 0.073089700996677748, 3: 0.026880096647538508, 9: 0.01117487163998792, 8: 0.0057384475989127152}\n"
     ]
    }
   ],
   "source": [
    "#the classification is very imbalanced use this dictinaty as the \"class-weight\" parameter when do model fitting\n",
    "weighted=sms2.classification.value_counts()\n",
    "weight_dict=dict()\n",
    "for key in weighted.keys():\n",
    "    weight_dict[key]=weighted[key]/3311\n",
    "print(weight_dict)"
   ]
  },
  {
   "cell_type": "code",
   "execution_count": 269,
   "metadata": {
    "scrolled": false
   },
   "outputs": [],
   "source": [
    "#define the X and y to be feed to the model\n",
    "X = sms.cli_data\n",
    "y = sms2.classification"
   ]
  },
  {
   "cell_type": "code",
   "execution_count": 271,
   "metadata": {
    "scrolled": false
   },
   "outputs": [
    {
     "name": "stdout",
     "output_type": "stream",
     "text": [
      "(2490,)\n",
      "(831,)\n",
      "(2490,)\n",
      "(831,)\n"
     ]
    }
   ],
   "source": [
    "#split the training data into \"train\" and \"test\" when run the model\n",
    "X_train, X_test, y_train, y_test = train_test_split(X, y, random_state=1)\n",
    "print(X_train.shape)\n",
    "print(X_test.shape)\n",
    "print(y_train.shape)\n",
    "print(y_test.shape)"
   ]
  },
  {
   "cell_type": "code",
   "execution_count": null,
   "metadata": {},
   "outputs": [],
   "source": [
    "#using kfold to split the data\n",
    "import re\n",
    "kf=KFold(n_splits=4)\n",
    "array_nb=[]\n",
    "array_lr=[]\n",
    "array_svc=[]\n",
    "score_nb=0\n",
    "score_lr=0\n",
    "score_svc=0\n",
    "i=0\n",
    "for train_indices,test_indices in kf.split(X,y):\n",
    "    X_train=X[train_indices]\n",
    "    y_train=y[train_indices] \n",
    "    X_test=X[test_indices] \n",
    "    y_test=y[test_indices] \n",
    "    \n",
    "    vect = CountVectorizer()\n",
    "    X_train_dtm = vect.fit_transform(X_train)\n",
    "    X_test_dtm = vect.transform(X_test)\n",
    "    \n",
    "    nb = MultinomialNB()\n",
    "    nb.fit(X_train_dtm, y_train)\n",
    "    y_pred_class_nb = nb.predict(X_test_dtm)\n",
    "    score_nb+=metrics.accuracy_score(y_test, y_pred_class_nb)\n",
    "    array_nb.append(metrics.accuracy_score(y_test, y_pred_class_nb))\n",
    "    \n",
    "    logreg = LogisticRegression()\n",
    "    logreg.fit(X_train_dtm, y_train)\n",
    "    y_pred_class_lr = logreg.predict(X_test_dtm)\n",
    "    score_lr+=metrics.accuracy_score(y_test, y_pred_class_lr)\n",
    "    array_lr.append(metrics.accuracy_score(y_test, y_pred_class_lr))\n",
    "    \n",
    "    svc = SVC(class_weight=weight_dict)\n",
    "    svc.fit(X_train_dtm, y_train)\n",
    "    y_pred_class_svc = svc.predict(X_test_dtm)\n",
    "    score_svc+=metrics.accuracy_score(y_test, y_pred_class_svc)\n",
    "    array_svc.append(metrics.accuracy_score(y_test, y_pred_class_svc))\n",
    "    #knn.fit(X_train_dtm, y_train)\n",
    "    #y_pred_class_knn= knn.predict(X_test_dtm)\n",
    "    #score_knn+=metrics.accuracy_score(y_test, y_pred_class_knn)\n",
    "    #array_knn.append(metrics.accuracy_score(y_test, y_pred_class_knn))\n",
    "    i=i+1\n",
    "\n",
    "\n",
    "\n",
    "    "
   ]
  },
  {
   "cell_type": "code",
   "execution_count": null,
   "metadata": {},
   "outputs": [],
   "source": [
    "\n",
    "print(score_nb)\n",
    "print(score_lr)\n",
    "print(score_svc)\n",
    "print(i)\n",
    "print(array_nb)\n",
    "print(array_lr)\n",
    "print(array_svc)"
   ]
  },
  {
   "cell_type": "code",
   "execution_count": null,
   "metadata": {},
   "outputs": [],
   "source": [
    "accuracy_nb=score_nb/i\n",
    "accuracy_lr=score_lr/i\n",
    "accuracy_knn=score_knn/i\n",
    "print(accuracy_nb)\n",
    "print(accuracy_lr)\n"
   ]
  },
  {
   "cell_type": "code",
   "execution_count": null,
   "metadata": {
    "collapsed": true
   },
   "outputs": [],
   "source": [
    "#clf = pipe.make_pipeline(TfidfVectorizer(), MultinomialNB())\n",
    "#clf.fit_tansform(X,y)\n",
    "#score=cross_val_score(clf, X, y, cv=10, scoring='accuracy')\n",
    "#print(score)"
   ]
  },
  {
   "cell_type": "code",
   "execution_count": 272,
   "metadata": {
    "collapsed": true,
    "scrolled": true
   },
   "outputs": [],
   "source": [
    "#create the vectorized instance\n",
    "vect = CountVectorizer()"
   ]
  },
  {
   "cell_type": "code",
   "execution_count": 273,
   "metadata": {
    "scrolled": true
   },
   "outputs": [
    {
     "data": {
      "text/plain": [
       "<2490x137259 sparse matrix of type '<class 'numpy.int64'>'\n",
       "\twith 3328599 stored elements in Compressed Sparse Row format>"
      ]
     },
     "execution_count": 273,
     "metadata": {},
     "output_type": "execute_result"
    }
   ],
   "source": [
    "#fit--learn the train vocabulary, as \"features\";transform is to create a \"document term matrix\"\n",
    "X_train_dtm = vect.fit_transform(X_train)\n",
    "X_train_dtm"
   ]
  },
  {
   "cell_type": "code",
   "execution_count": 274,
   "metadata": {
    "scrolled": true
   },
   "outputs": [
    {
     "data": {
      "text/plain": [
       "<831x137259 sparse matrix of type '<class 'numpy.int64'>'\n",
       "\twith 1027661 stored elements in Compressed Sparse Row format>"
      ]
     },
     "execution_count": 274,
     "metadata": {},
     "output_type": "execute_result"
    }
   ],
   "source": [
    "#do the same thing to test file \n",
    "X_test_dtm = vect.transform(X_test)\n",
    "X_test_dtm "
   ]
  },
  {
   "cell_type": "code",
   "execution_count": 275,
   "metadata": {
    "scrolled": true
   },
   "outputs": [
    {
     "data": {
      "text/plain": [
       "MultinomialNB(alpha=1.0, class_prior=None, fit_prior=True)"
      ]
     },
     "execution_count": 275,
     "metadata": {},
     "output_type": "execute_result"
    }
   ],
   "source": [
    "#use naive bayes model to test\n",
    "nb = MultinomialNB()\n",
    "nb.fit(X_train_dtm, y_train)"
   ]
  },
  {
   "cell_type": "code",
   "execution_count": 252,
   "metadata": {
    "scrolled": true
   },
   "outputs": [
    {
     "data": {
      "text/plain": [
       "0.57761732851985559"
      ]
     },
     "execution_count": 252,
     "metadata": {},
     "output_type": "execute_result"
    }
   ],
   "source": [
    "#accuracy using cross-validation\n",
    "y_pred_class_nb = nb.predict(X_test_dtm)\n",
    "metrics.accuracy_score(y_test, y_pred_class_nb)"
   ]
  },
  {
   "cell_type": "code",
   "execution_count": 276,
   "metadata": {},
   "outputs": [
    {
     "name": "stdout",
     "output_type": "stream",
     "text": [
      "[1 7 1 7 1 1 1 2 4 1]\n"
     ]
    }
   ],
   "source": [
    "#the first 10 lines of  prediction\n",
    "print(y_pred_class_nb[:10])"
   ]
  },
  {
   "cell_type": "code",
   "execution_count": 277,
   "metadata": {
    "scrolled": false
   },
   "outputs": [
    {
     "data": {
      "text/plain": [
       "array([[ 87,   7,   0,  16,  18,   5,   9,   0,   0],\n",
       "       [  5,  50,   0,   5,   1,   1,  55,   0,   0],\n",
       "       [  4,   1,  11,   2,   3,   1,   5,   0,   0],\n",
       "       [ 56,   3,   1,  86,  16,   3,   4,   0,   1],\n",
       "       [  9,   2,   0,   3,  24,   4,   7,   0,   1],\n",
       "       [ 10,   5,   1,   0,   6,  35,   4,   0,   0],\n",
       "       [  5,  55,   6,   1,   4,   1, 178,   0,   0],\n",
       "       [  1,   1,   0,   0,   0,   0,   1,   1,   1],\n",
       "       [  0,   0,   0,   0,   0,   0,   1,   0,   8]])"
      ]
     },
     "execution_count": 277,
     "metadata": {},
     "output_type": "execute_result"
    }
   ],
   "source": [
    "metrics.confusion_matrix(y_test, y_pred_class_nb)\n",
    "#class 2&7 1&4 are easy to get confused"
   ]
  },
  {
   "cell_type": "code",
   "execution_count": 283,
   "metadata": {
    "scrolled": true
   },
   "outputs": [
    {
     "data": {
      "text/plain": [
       "array([  1.00000000e+000,   0.00000000e+000,   1.00000000e+000,\n",
       "         9.83734304e-121,   9.99993072e-001,   1.00000000e+000,\n",
       "         1.00000000e+000,   0.00000000e+000,   3.56773206e-222,\n",
       "         1.00000000e+000])"
      ]
     },
     "execution_count": 283,
     "metadata": {},
     "output_type": "execute_result"
    }
   ],
   "source": [
    "#first 10 lines of classification prediction probality \n",
    "y_pred_prob = nb.predict_proba(X_test_dtm)[:10, 0]\n",
    "y_pred_prob"
   ]
  },
  {
   "cell_type": "code",
   "execution_count": 285,
   "metadata": {
    "scrolled": false
   },
   "outputs": [
    {
     "data": {
      "text/plain": [
       "LogisticRegression(C=1.0,\n",
       "          class_weight={7: 0.2878284506191483, 4: 0.20718816067653276, 1: 0.17154938085170643, 2: 0.13651464814255512, 6: 0.083056478405315617, 5: 0.073089700996677748, 3: 0.026880096647538508, 9: 0.01117487163998792, 8: 0.0057384475989127152},\n",
       "          dual=False, fit_intercept=True, intercept_scaling=1,\n",
       "          max_iter=100, multi_class='ovr', n_jobs=1, penalty='l2',\n",
       "          random_state=None, solver='liblinear', tol=0.0001, verbose=0,\n",
       "          warm_start=False)"
      ]
     },
     "execution_count": 285,
     "metadata": {},
     "output_type": "execute_result"
    }
   ],
   "source": [
    "#use logistic regression model to test\n",
    "logreg = LogisticRegression(class_weight=weight_dict)\n",
    "logreg.fit(X_train_dtm, y_train)"
   ]
  },
  {
   "cell_type": "code",
   "execution_count": 286,
   "metadata": {
    "collapsed": true,
    "scrolled": true
   },
   "outputs": [],
   "source": [
    "y_pred_class = logreg.predict(X_test_dtm)"
   ]
  },
  {
   "cell_type": "code",
   "execution_count": 289,
   "metadata": {
    "scrolled": false
   },
   "outputs": [
    {
     "name": "stdout",
     "output_type": "stream",
     "text": [
      "[[  9.99997865e-01   2.74858220e-12   1.83499180e-17   1.00522053e-09\n",
      "    7.68455762e-09   2.06479588e-06   6.16043769e-08   2.60412160e-18\n",
      "    7.44905648e-21]\n",
      " [  3.45306518e-11   2.86233827e-07   1.59732100e-04   5.16886091e-10\n",
      "    3.91616053e-06   8.30794200e-11   9.99836065e-01   2.34681316e-10\n",
      "    2.05826693e-13]\n",
      " [  9.99692847e-01   3.56467680e-05   4.08034927e-07   4.14786943e-05\n",
      "    1.33393561e-05   1.54042363e-04   6.19435445e-05   2.92765817e-07\n",
      "    1.64700455e-09]\n",
      " [  2.23456962e-04   3.01682406e-02   2.49163238e-08   3.22869624e-05\n",
      "    1.33917263e-01   6.82122681e-02   7.67446457e-01   1.20179825e-10\n",
      "    2.46701632e-09]\n",
      " [  2.13115726e-01   3.58635850e-14   1.34874489e-08   7.86865075e-01\n",
      "    1.91797617e-05   1.13336212e-09   5.15393873e-09   3.94665211e-15\n",
      "    5.39100722e-15]\n",
      " [  4.72813102e-01   6.06787668e-02   2.19315071e-03   4.37203563e-01\n",
      "    2.32775107e-02   2.33600380e-03   1.06182395e-03   2.42572552e-04\n",
      "    1.93506972e-04]\n",
      " [  1.02983744e-03   4.45721423e-07   1.03629766e-17   9.98969418e-01\n",
      "    1.49903012e-07   2.05190076e-10   1.48592329e-07   4.47353268e-19\n",
      "    1.77002916e-23]\n",
      " [  4.33218055e-05   9.98932755e-01   2.08382301e-08   2.29848244e-08\n",
      "    1.84414113e-04   2.42914280e-04   5.96534545e-04   4.29882195e-09\n",
      "    1.22288266e-08]\n",
      " [  8.24441847e-04   2.60788699e-04   7.36200900e-06   9.98603729e-01\n",
      "    7.75368510e-05   8.19580712e-05   1.41913653e-04   1.93532670e-06\n",
      "    3.34524980e-07]\n",
      " [  9.99999030e-01   7.70737451e-11   3.34243455e-17   1.86085497e-07\n",
      "    2.27328357e-07   3.27028958e-08   5.23322439e-07   4.11748873e-16\n",
      "    4.81647920e-19]]\n"
     ]
    }
   ],
   "source": [
    "#predicted probiblity of each class for the first 10 lines\n",
    "y_pred_prob_lr = logreg.predict_proba(X_test_dtm)[:10]\n",
    "print(y_pred_prob_lr)"
   ]
  },
  {
   "cell_type": "code",
   "execution_count": 287,
   "metadata": {
    "scrolled": true
   },
   "outputs": [
    {
     "data": {
      "text/plain": [
       "0.6305655836341757"
      ]
     },
     "execution_count": 287,
     "metadata": {},
     "output_type": "execute_result"
    }
   ],
   "source": [
    "#the accuracy using log_regression model\n",
    "metrics.accuracy_score(y_test, y_pred_class)"
   ]
  },
  {
   "cell_type": "code",
   "execution_count": 293,
   "metadata": {},
   "outputs": [
    {
     "data": {
      "text/plain": [
       "array([[ 82,   4,   0,  34,   7,   7,   8,   0,   0],\n",
       "       [  5,  55,   0,   4,   1,   4,  48,   0,   0],\n",
       "       [  1,   0,   1,  10,   1,   0,  14,   0,   0],\n",
       "       [ 25,   1,   0, 124,  12,   0,   8,   0,   0],\n",
       "       [ 15,   0,   0,   9,  10,   5,  11,   0,   0],\n",
       "       [  9,   4,   1,   0,   3,  41,   3,   0,   0],\n",
       "       [  4,  32,   0,   5,   4,   3, 202,   0,   0],\n",
       "       [  0,   0,   0,   0,   0,   0,   2,   3,   0],\n",
       "       [  0,   0,   0,   2,   0,   0,   1,   0,   6]])"
      ]
     },
     "execution_count": 293,
     "metadata": {},
     "output_type": "execute_result"
    }
   ],
   "source": [
    "#the inaccuray mainly happened between class 1&4, 2&7\n",
    "metrics.confusion_matrix(y_test, y_pred_class)"
   ]
  },
  {
   "cell_type": "code",
   "execution_count": 290,
   "metadata": {},
   "outputs": [
    {
     "data": {
      "text/plain": [
       "SVC(C=1.0, cache_size=200,\n",
       "  class_weight={7: 0.2878284506191483, 4: 0.20718816067653276, 1: 0.17154938085170643, 2: 0.13651464814255512, 6: 0.083056478405315617, 5: 0.073089700996677748, 3: 0.026880096647538508, 9: 0.01117487163998792, 8: 0.0057384475989127152},\n",
       "  coef0=0.0, decision_function_shape='ovr', degree=3, gamma='auto',\n",
       "  kernel='rbf', max_iter=-1, probability=False, random_state=None,\n",
       "  shrinking=True, tol=0.001, verbose=False)"
      ]
     },
     "execution_count": 290,
     "metadata": {},
     "output_type": "execute_result"
    }
   ],
   "source": [
    "svc=SVC(class_weight=weight_dict)\n",
    "svc.fit(X_train_dtm,y_train)"
   ]
  },
  {
   "cell_type": "code",
   "execution_count": 291,
   "metadata": {},
   "outputs": [],
   "source": [
    "y_pred_class_svc=svc.predict(X_test_dtm)"
   ]
  },
  {
   "cell_type": "code",
   "execution_count": 292,
   "metadata": {},
   "outputs": [
    {
     "data": {
      "text/plain": [
       "0.41034897713598073"
      ]
     },
     "execution_count": 292,
     "metadata": {},
     "output_type": "execute_result"
    }
   ],
   "source": [
    "#the accuary of svc model is the lowest\n",
    "metrics.accuracy_score(y_test, y_pred_class_svc)"
   ]
  },
  {
   "cell_type": "code",
   "execution_count": 294,
   "metadata": {
    "collapsed": true,
    "scrolled": true
   },
   "outputs": [],
   "source": [
    "#use KNN model to test"
   ]
  },
  {
   "cell_type": "code",
   "execution_count": 295,
   "metadata": {
    "scrolled": true
   },
   "outputs": [
    {
     "data": {
      "text/plain": [
       "KNeighborsClassifier(algorithm='auto', leaf_size=30, metric='minkowski',\n",
       "           metric_params=None, n_jobs=1, n_neighbors=1, p=2,\n",
       "           weights='uniform')"
      ]
     },
     "execution_count": 295,
     "metadata": {},
     "output_type": "execute_result"
    }
   ],
   "source": [
    "knn = KNeighborsClassifier(n_neighbors=1)\n",
    "knn.fit(X_train_dtm, y_train)"
   ]
  },
  {
   "cell_type": "code",
   "execution_count": 296,
   "metadata": {
    "collapsed": true,
    "scrolled": true
   },
   "outputs": [],
   "source": [
    "y_pred_class_knn= knn.predict(X_test_dtm)"
   ]
  },
  {
   "cell_type": "code",
   "execution_count": 297,
   "metadata": {
    "scrolled": true
   },
   "outputs": [
    {
     "data": {
      "text/plain": [
       "0.60409145607701564"
      ]
     },
     "execution_count": 297,
     "metadata": {},
     "output_type": "execute_result"
    }
   ],
   "source": [
    "#get the accuracy using knn model\n",
    "metrics.accuracy_score(y_test, y_pred_class_knn)"
   ]
  }
 ],
 "metadata": {
  "kernelspec": {
   "display_name": "Python 3",
   "language": "python",
   "name": "python3"
  },
  "language_info": {
   "codemirror_mode": {
    "name": "ipython",
    "version": 3
   },
   "file_extension": ".py",
   "mimetype": "text/x-python",
   "name": "python",
   "nbconvert_exporter": "python",
   "pygments_lexer": "ipython3",
   "version": "3.6.1"
  }
 },
 "nbformat": 4,
 "nbformat_minor": 2
}
