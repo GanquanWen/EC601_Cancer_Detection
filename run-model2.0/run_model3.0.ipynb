{
 "cells": [
  {
   "cell_type": "code",
   "execution_count": 2,
   "metadata": {
    "scrolled": true
   },
   "outputs": [
    {
     "name": "stderr",
     "output_type": "stream",
     "text": [
      "/Users/Iris/anaconda/lib/python3.6/site-packages/sklearn/cross_validation.py:41: DeprecationWarning: This module was deprecated in version 0.18 in favor of the model_selection module into which all the refactored classes and functions are moved. Also note that the interface of the new CV iterators are different from that of this module. This module will be removed in 0.20.\n",
      "  \"This module will be removed in 0.20.\", DeprecationWarning)\n"
     ]
    }
   ],
   "source": [
    "from sklearn.feature_extraction.text import CountVectorizer\n",
    "import pandas as pd\n",
    "from sklearn.neighbors import KNeighborsClassifier\n",
    "from sklearn.naive_bayes import MultinomialNB\n",
    "from sklearn.linear_model import LogisticRegression\n",
    "from sklearn.cross_validation import cross_val_score\n",
    "from sklearn.feature_extraction.text import TfidfVectorizer\n",
    "from sklearn.model_selection import KFold\n",
    "import sklearn.pipeline as pipe\n",
    "from sklearn.cross_validation import train_test_split\n",
    "from sklearn import metrics\n",
    "from sklearn.svm import SVC\n",
    "import nltk"
   ]
  },
  {
   "cell_type": "code",
   "execution_count": 3,
   "metadata": {
    "collapsed": true,
    "scrolled": true
   },
   "outputs": [],
   "source": [
    "#using pandas to import the original training_text and traning_variant\n",
    "sms = pd.read_table('training_rare_text.txt', encoding= 'UTF8', sep=\"\\\\|\\\\|\",header=None, engine='python', names=['cli_data'])\n",
    "sms2= pd.read_table('training_variants.txt', encoding= 'UTF8', header=None,delimiter=',', engine='python', names=['gene','mutation','classification'])"
   ]
  },
  {
   "cell_type": "code",
   "execution_count": 303,
   "metadata": {
    "scrolled": true
   },
   "outputs": [
    {
     "data": {
      "text/plain": [
       "(3321, 1)"
      ]
     },
     "execution_count": 303,
     "metadata": {},
     "output_type": "execute_result"
    }
   ],
   "source": [
    "sms.shape"
   ]
  },
  {
   "cell_type": "code",
   "execution_count": 304,
   "metadata": {
    "scrolled": true
   },
   "outputs": [
    {
     "data": {
      "text/plain": [
       "pandas.core.frame.DataFrame"
      ]
     },
     "execution_count": 304,
     "metadata": {},
     "output_type": "execute_result"
    }
   ],
   "source": [
    "#a glimpse of the type, doesn't matter\n",
    "type(sms)"
   ]
  },
  {
   "cell_type": "code",
   "execution_count": 305,
   "metadata": {
    "scrolled": true
   },
   "outputs": [
    {
     "data": {
      "text/plain": [
       "(3321, 3)"
      ]
     },
     "execution_count": 305,
     "metadata": {},
     "output_type": "execute_result"
    }
   ],
   "source": [
    "sms2.shape"
   ]
  },
  {
   "cell_type": "code",
   "execution_count": 306,
   "metadata": {
    "scrolled": true
   },
   "outputs": [
    {
     "data": {
      "text/html": [
       "<div>\n",
       "<style>\n",
       "    .dataframe thead tr:only-child th {\n",
       "        text-align: right;\n",
       "    }\n",
       "\n",
       "    .dataframe thead th {\n",
       "        text-align: left;\n",
       "    }\n",
       "\n",
       "    .dataframe tbody tr th {\n",
       "        vertical-align: top;\n",
       "    }\n",
       "</style>\n",
       "<table border=\"1\" class=\"dataframe\">\n",
       "  <thead>\n",
       "    <tr style=\"text-align: right;\">\n",
       "      <th></th>\n",
       "      <th>cli_data</th>\n",
       "    </tr>\n",
       "  </thead>\n",
       "  <tbody>\n",
       "    <tr>\n",
       "      <th>0</th>\n",
       "      <td>Cyclin dependent kinases CDKs regulate variety...</td>\n",
       "    </tr>\n",
       "    <tr>\n",
       "      <th>1</th>\n",
       "      <td>Abstract Background Non small lung NSCLC heter...</td>\n",
       "    </tr>\n",
       "    <tr>\n",
       "      <th>2</th>\n",
       "      <td>Abstract Background Non small lung NSCLC heter...</td>\n",
       "    </tr>\n",
       "    <tr>\n",
       "      <th>3</th>\n",
       "      <td>Recent evidence demonstrated acquired uniparen...</td>\n",
       "    </tr>\n",
       "    <tr>\n",
       "      <th>4</th>\n",
       "      <td>Oncogenic monomeric Casitas B lineage lymphoma...</td>\n",
       "    </tr>\n",
       "    <tr>\n",
       "      <th>5</th>\n",
       "      <td>Oncogenic monomeric Casitas B lineage lymphoma...</td>\n",
       "    </tr>\n",
       "    <tr>\n",
       "      <th>6</th>\n",
       "      <td>Oncogenic monomeric Casitas B lineage lymphoma...</td>\n",
       "    </tr>\n",
       "    <tr>\n",
       "      <th>7</th>\n",
       "      <td>CBL negative regulator activated receptor tyro...</td>\n",
       "    </tr>\n",
       "    <tr>\n",
       "      <th>8</th>\n",
       "      <td>Abstract Juvenile myelomonocytic leukemia JMML...</td>\n",
       "    </tr>\n",
       "    <tr>\n",
       "      <th>9</th>\n",
       "      <td>Abstract Juvenile myelomonocytic leukemia JMML...</td>\n",
       "    </tr>\n",
       "  </tbody>\n",
       "</table>\n",
       "</div>"
      ],
      "text/plain": [
       "                                            cli_data\n",
       "0  Cyclin dependent kinases CDKs regulate variety...\n",
       "1  Abstract Background Non small lung NSCLC heter...\n",
       "2  Abstract Background Non small lung NSCLC heter...\n",
       "3  Recent evidence demonstrated acquired uniparen...\n",
       "4  Oncogenic monomeric Casitas B lineage lymphoma...\n",
       "5  Oncogenic monomeric Casitas B lineage lymphoma...\n",
       "6  Oncogenic monomeric Casitas B lineage lymphoma...\n",
       "7  CBL negative regulator activated receptor tyro...\n",
       "8  Abstract Juvenile myelomonocytic leukemia JMML...\n",
       "9  Abstract Juvenile myelomonocytic leukemia JMML..."
      ]
     },
     "execution_count": 306,
     "metadata": {},
     "output_type": "execute_result"
    }
   ],
   "source": [
    "#the first 10 lines of the text file\n",
    "sms.head(10)"
   ]
  },
  {
   "cell_type": "code",
   "execution_count": 307,
   "metadata": {
    "scrolled": true
   },
   "outputs": [
    {
     "data": {
      "text/html": [
       "<div>\n",
       "<style>\n",
       "    .dataframe thead tr:only-child th {\n",
       "        text-align: right;\n",
       "    }\n",
       "\n",
       "    .dataframe thead th {\n",
       "        text-align: left;\n",
       "    }\n",
       "\n",
       "    .dataframe tbody tr th {\n",
       "        vertical-align: top;\n",
       "    }\n",
       "</style>\n",
       "<table border=\"1\" class=\"dataframe\">\n",
       "  <thead>\n",
       "    <tr style=\"text-align: right;\">\n",
       "      <th></th>\n",
       "      <th>gene</th>\n",
       "      <th>mutation</th>\n",
       "      <th>classification</th>\n",
       "    </tr>\n",
       "  </thead>\n",
       "  <tbody>\n",
       "    <tr>\n",
       "      <th>0</th>\n",
       "      <td>FAM58A</td>\n",
       "      <td>Truncating Mutations</td>\n",
       "      <td>1</td>\n",
       "    </tr>\n",
       "    <tr>\n",
       "      <th>1</th>\n",
       "      <td>CBL</td>\n",
       "      <td>W802*</td>\n",
       "      <td>2</td>\n",
       "    </tr>\n",
       "    <tr>\n",
       "      <th>2</th>\n",
       "      <td>CBL</td>\n",
       "      <td>Q249E</td>\n",
       "      <td>2</td>\n",
       "    </tr>\n",
       "    <tr>\n",
       "      <th>3</th>\n",
       "      <td>CBL</td>\n",
       "      <td>N454D</td>\n",
       "      <td>3</td>\n",
       "    </tr>\n",
       "    <tr>\n",
       "      <th>4</th>\n",
       "      <td>CBL</td>\n",
       "      <td>L399V</td>\n",
       "      <td>4</td>\n",
       "    </tr>\n",
       "    <tr>\n",
       "      <th>5</th>\n",
       "      <td>CBL</td>\n",
       "      <td>V391I</td>\n",
       "      <td>4</td>\n",
       "    </tr>\n",
       "    <tr>\n",
       "      <th>6</th>\n",
       "      <td>CBL</td>\n",
       "      <td>V430M</td>\n",
       "      <td>5</td>\n",
       "    </tr>\n",
       "    <tr>\n",
       "      <th>7</th>\n",
       "      <td>CBL</td>\n",
       "      <td>Deletion</td>\n",
       "      <td>1</td>\n",
       "    </tr>\n",
       "    <tr>\n",
       "      <th>8</th>\n",
       "      <td>CBL</td>\n",
       "      <td>Y371H</td>\n",
       "      <td>4</td>\n",
       "    </tr>\n",
       "    <tr>\n",
       "      <th>9</th>\n",
       "      <td>CBL</td>\n",
       "      <td>C384R</td>\n",
       "      <td>4</td>\n",
       "    </tr>\n",
       "  </tbody>\n",
       "</table>\n",
       "</div>"
      ],
      "text/plain": [
       "     gene              mutation  classification\n",
       "0  FAM58A  Truncating Mutations               1\n",
       "1     CBL                 W802*               2\n",
       "2     CBL                 Q249E               2\n",
       "3     CBL                 N454D               3\n",
       "4     CBL                 L399V               4\n",
       "5     CBL                 V391I               4\n",
       "6     CBL                 V430M               5\n",
       "7     CBL              Deletion               1\n",
       "8     CBL                 Y371H               4\n",
       "9     CBL                 C384R               4"
      ]
     },
     "execution_count": 307,
     "metadata": {},
     "output_type": "execute_result"
    }
   ],
   "source": [
    "#first 10 lines of the variants file\n",
    "sms2.head(10)"
   ]
  },
  {
   "cell_type": "code",
   "execution_count": 308,
   "metadata": {
    "scrolled": false
   },
   "outputs": [
    {
     "name": "stdout",
     "output_type": "stream",
     "text": [
      "{7: 0.2878284506191483, 4: 0.20718816067653276, 1: 0.17154938085170643, 2: 0.13651464814255512, 6: 0.083056478405315617, 5: 0.073089700996677748, 3: 0.026880096647538508, 9: 0.01117487163998792, 8: 0.0057384475989127152}\n"
     ]
    }
   ],
   "source": [
    "#the classification is very imbalanced use this dictinaty as the \"class-weight\" parameter when do model fitting\n",
    "weighted=sms2.classification.value_counts()\n",
    "weight_dict=dict()\n",
    "for key in weighted.keys():\n",
    "    weight_dict[key]=weighted[key]/3311\n",
    "print(weight_dict)"
   ]
  },
  {
   "cell_type": "code",
   "execution_count": 5,
   "metadata": {
    "collapsed": true,
    "scrolled": false
   },
   "outputs": [],
   "source": [
    "#define the X and y to be feed to the model\n",
    "X = sms.cli_data\n",
    "y = sms2.classification"
   ]
  },
  {
   "cell_type": "code",
   "execution_count": 315,
   "metadata": {
    "scrolled": false
   },
   "outputs": [
    {
     "name": "stdout",
     "output_type": "stream",
     "text": [
      "(2490,)\n",
      "(831,)\n",
      "(2490,)\n",
      "(831,)\n"
     ]
    }
   ],
   "source": [
    "#split the training data into \"train\" and \"test\" when run the model\n",
    "X_train, X_test, y_train, y_test = train_test_split(X, y, random_state=1)\n",
    "print(X_train.shape)\n",
    "print(X_test.shape)\n",
    "print(y_train.shape)\n",
    "print(y_test.shape)"
   ]
  },
  {
   "cell_type": "code",
   "execution_count": 6,
   "metadata": {},
   "outputs": [
    {
     "name": "stdout",
     "output_type": "stream",
     "text": [
      "2214\n",
      "2214\n",
      "2214\n"
     ]
    }
   ],
   "source": [
    "#using kfold to split the data\n",
    "kf=KFold(n_splits=3)\n",
    "array_nb=[]\n",
    "array_lr=[]\n",
    "array_svc=[]\n",
    "score_nb=0\n",
    "score_lr=0\n",
    "score_svc=0\n",
    "i=0\n",
    "for train_indices,test_indices in kf.split(X,y):\n",
    "    X_train=X[train_indices]\n",
    "    y_train=y[train_indices] \n",
    "    X_test=X[test_indices] \n",
    "    y_test=y[test_indices] \n",
    "    print(len(X_train))\n",
    "    \n",
    "    vect = CountVectorizer()\n",
    "    X_train_dtm = vect.fit_transform(X_train)\n",
    "    X_test_dtm = vect.transform(X_test)\n",
    "    \n",
    "    weighted=y_train.value_counts()\n",
    "    weight_dict=dict()\n",
    "    for key in weighted.keys():\n",
    "        weight_dict[key]=weighted[key]/len(X_train)\n",
    "    \n",
    "    nb = MultinomialNB()\n",
    "    nb.fit(X_train_dtm, y_train)\n",
    "    y_pred_class_nb = nb.predict(X_test_dtm)\n",
    "    score_nb+=metrics.accuracy_score(y_test, y_pred_class_nb)\n",
    "    array_nb.append(metrics.accuracy_score(y_test, y_pred_class_nb))\n",
    "    \n",
    "    logreg = LogisticRegression(class_weight=weight_dict)\n",
    "    logreg.fit(X_train_dtm, y_train)\n",
    "    y_pred_class_lr = logreg.predict(X_test_dtm)\n",
    "    score_lr+=metrics.accuracy_score(y_test, y_pred_class_lr)\n",
    "    array_lr.append(metrics.accuracy_score(y_test, y_pred_class_lr))\n",
    "    \n",
    "    i=i+1\n",
    "\n",
    "\n",
    "\n",
    "    "
   ]
  },
  {
   "cell_type": "code",
   "execution_count": 7,
   "metadata": {},
   "outputs": [
    {
     "name": "stdout",
     "output_type": "stream",
     "text": [
      "1.05962059621\n",
      "1.10840108401\n",
      "0\n",
      "3\n",
      "[0.32971996386630531, 0.4065040650406504, 0.32339656729900634]\n",
      "[0.34869015356820232, 0.35953026196928634, 0.40018066847335138]\n",
      "[]\n"
     ]
    }
   ],
   "source": [
    "\n",
    "print(score_nb)\n",
    "print(score_lr)\n",
    "print(score_svc)\n",
    "print(i)\n",
    "print(array_nb)\n",
    "print(array_lr)\n",
    "print(array_svc)"
   ]
  },
  {
   "cell_type": "code",
   "execution_count": 9,
   "metadata": {},
   "outputs": [
    {
     "name": "stdout",
     "output_type": "stream",
     "text": [
      "0.353206865402\n",
      "0.369467028004\n"
     ]
    }
   ],
   "source": [
    "accuracy_nb=score_nb/i\n",
    "accuracy_lr=score_lr/i\n",
    "print(accuracy_nb)\n",
    "print(accuracy_lr)\n"
   ]
  },
  {
   "cell_type": "code",
   "execution_count": null,
   "metadata": {
    "collapsed": true
   },
   "outputs": [],
   "source": [
    "#clf = pipe.make_pipeline(TfidfVectorizer(), MultinomialNB())\n",
    "#clf.fit_tansform(X,y)\n",
    "#score=cross_val_score(clf, X, y, cv=10, scoring='accuracy')\n",
    "#print(score)"
   ]
  },
  {
   "cell_type": "code",
   "execution_count": 316,
   "metadata": {
    "collapsed": true,
    "scrolled": true
   },
   "outputs": [],
   "source": [
    "#create the vectorized instance\n",
    "vect = CountVectorizer()"
   ]
  },
  {
   "cell_type": "code",
   "execution_count": 317,
   "metadata": {
    "scrolled": true
   },
   "outputs": [
    {
     "data": {
      "text/plain": [
       "<2490x137273 sparse matrix of type '<class 'numpy.int64'>'\n",
       "\twith 4129644 stored elements in Compressed Sparse Row format>"
      ]
     },
     "execution_count": 317,
     "metadata": {},
     "output_type": "execute_result"
    }
   ],
   "source": [
    "#fit--learn the train vocabulary, as \"features\";transform is to create a \"document term matrix\"\n",
    "X_train_dtm = vect.fit_transform(X_train)\n",
    "X_train_dtm"
   ]
  },
  {
   "cell_type": "code",
   "execution_count": 318,
   "metadata": {
    "scrolled": true
   },
   "outputs": [
    {
     "data": {
      "text/plain": [
       "<831x137273 sparse matrix of type '<class 'numpy.int64'>'\n",
       "\twith 1290716 stored elements in Compressed Sparse Row format>"
      ]
     },
     "execution_count": 318,
     "metadata": {},
     "output_type": "execute_result"
    }
   ],
   "source": [
    "#do the same thing to test file \n",
    "X_test_dtm = vect.transform(X_test)\n",
    "X_test_dtm "
   ]
  },
  {
   "cell_type": "code",
   "execution_count": 319,
   "metadata": {
    "scrolled": true
   },
   "outputs": [
    {
     "data": {
      "text/plain": [
       "MultinomialNB(alpha=1.0, class_prior=None, fit_prior=True)"
      ]
     },
     "execution_count": 319,
     "metadata": {},
     "output_type": "execute_result"
    }
   ],
   "source": [
    "#use naive bayes model to test\n",
    "nb = MultinomialNB()\n",
    "nb.fit(X_train_dtm, y_train)"
   ]
  },
  {
   "cell_type": "code",
   "execution_count": 320,
   "metadata": {
    "scrolled": true
   },
   "outputs": [
    {
     "data": {
      "text/plain": [
       "0.58604091456077012"
      ]
     },
     "execution_count": 320,
     "metadata": {},
     "output_type": "execute_result"
    }
   ],
   "source": [
    "#accuracy using cross-validation\n",
    "y_pred_class_nb = nb.predict(X_test_dtm)\n",
    "metrics.accuracy_score(y_test, y_pred_class_nb)"
   ]
  },
  {
   "cell_type": "code",
   "execution_count": null,
   "metadata": {
    "collapsed": true
   },
   "outputs": [],
   "source": [
    "#the first 10 lines of  prediction\n",
    "print(y_pred_class_nb[:10])"
   ]
  },
  {
   "cell_type": "code",
   "execution_count": null,
   "metadata": {
    "collapsed": true,
    "scrolled": false
   },
   "outputs": [],
   "source": [
    "metrics.confusion_matrix(y_test, y_pred_class_nb)\n",
    "#class 2&7 1&4 are easy to get confused"
   ]
  },
  {
   "cell_type": "code",
   "execution_count": null,
   "metadata": {
    "collapsed": true,
    "scrolled": true
   },
   "outputs": [],
   "source": [
    "#first 10 lines of classification prediction probality \n",
    "y_pred_prob = nb.predict_proba(X_test_dtm)[:10, 0]\n",
    "y_pred_prob"
   ]
  },
  {
   "cell_type": "code",
   "execution_count": 321,
   "metadata": {
    "scrolled": false
   },
   "outputs": [
    {
     "data": {
      "text/plain": [
       "LogisticRegression(C=1.0,\n",
       "          class_weight={7: 0.2878284506191483, 4: 0.20718816067653276, 1: 0.17154938085170643, 2: 0.13651464814255512, 6: 0.083056478405315617, 5: 0.073089700996677748, 3: 0.026880096647538508, 9: 0.01117487163998792, 8: 0.0057384475989127152},\n",
       "          dual=False, fit_intercept=True, intercept_scaling=1,\n",
       "          max_iter=100, multi_class='ovr', n_jobs=1, penalty='l2',\n",
       "          random_state=None, solver='liblinear', tol=0.0001, verbose=0,\n",
       "          warm_start=False)"
      ]
     },
     "execution_count": 321,
     "metadata": {},
     "output_type": "execute_result"
    }
   ],
   "source": [
    "#use logistic regression model to test\n",
    "logreg = LogisticRegression(class_weight=weight_dict)\n",
    "logreg.fit(X_train_dtm, y_train)"
   ]
  },
  {
   "cell_type": "code",
   "execution_count": 322,
   "metadata": {
    "collapsed": true,
    "scrolled": true
   },
   "outputs": [],
   "source": [
    "y_pred_class = logreg.predict(X_test_dtm)"
   ]
  },
  {
   "cell_type": "code",
   "execution_count": null,
   "metadata": {
    "collapsed": true,
    "scrolled": false
   },
   "outputs": [],
   "source": [
    "#predicted probiblity of each class for the first 10 lines\n",
    "y_pred_prob_lr = logreg.predict_proba(X_test_dtm)[:10]\n",
    "print(y_pred_prob_lr)"
   ]
  },
  {
   "cell_type": "code",
   "execution_count": 323,
   "metadata": {
    "scrolled": true
   },
   "outputs": [
    {
     "data": {
      "text/plain": [
       "0.63297232250300839"
      ]
     },
     "execution_count": 323,
     "metadata": {},
     "output_type": "execute_result"
    }
   ],
   "source": [
    "#the accuracy using log_regression model\n",
    "metrics.accuracy_score(y_test, y_pred_class)"
   ]
  },
  {
   "cell_type": "code",
   "execution_count": 324,
   "metadata": {},
   "outputs": [
    {
     "data": {
      "text/plain": [
       "array([[ 82,   3,   0,  36,   6,   7,   8,   0,   0],\n",
       "       [  5,  57,   0,   4,   0,   4,  47,   0,   0],\n",
       "       [  1,   0,   1,  10,   1,   0,  14,   0,   0],\n",
       "       [ 24,   1,   1, 125,  12,   2,   5,   0,   0],\n",
       "       [ 15,   0,   0,   9,  10,   5,  11,   0,   0],\n",
       "       [  7,   5,   1,   2,   3,  40,   3,   0,   0],\n",
       "       [  5,  31,   0,   5,   5,   2, 202,   0,   0],\n",
       "       [  0,   0,   0,   0,   0,   0,   2,   3,   0],\n",
       "       [  0,   0,   0,   2,   0,   0,   1,   0,   6]])"
      ]
     },
     "execution_count": 324,
     "metadata": {},
     "output_type": "execute_result"
    }
   ],
   "source": [
    "#the inaccuray mainly happened between class 1&4, 2&7\n",
    "metrics.confusion_matrix(y_test, y_pred_class)"
   ]
  },
  {
   "cell_type": "code",
   "execution_count": null,
   "metadata": {
    "collapsed": true
   },
   "outputs": [],
   "source": [
    "svc=SVC(class_weight=weight_dict)\n",
    "svc.fit(X_train_dtm,y_train)"
   ]
  },
  {
   "cell_type": "code",
   "execution_count": null,
   "metadata": {
    "collapsed": true
   },
   "outputs": [],
   "source": [
    "y_pred_class_svc=svc.predict(X_test_dtm)"
   ]
  },
  {
   "cell_type": "code",
   "execution_count": null,
   "metadata": {
    "collapsed": true
   },
   "outputs": [],
   "source": [
    "#the accuary of svc model is the lowest\n",
    "metrics.accuracy_score(y_test, y_pred_class_svc)"
   ]
  },
  {
   "cell_type": "code",
   "execution_count": null,
   "metadata": {
    "collapsed": true,
    "scrolled": true
   },
   "outputs": [],
   "source": [
    "#use KNN model to test"
   ]
  },
  {
   "cell_type": "code",
   "execution_count": null,
   "metadata": {
    "collapsed": true,
    "scrolled": true
   },
   "outputs": [],
   "source": [
    "knn = KNeighborsClassifier(n_neighbors=1)\n",
    "knn.fit(X_train_dtm, y_train)"
   ]
  },
  {
   "cell_type": "code",
   "execution_count": null,
   "metadata": {
    "collapsed": true,
    "scrolled": true
   },
   "outputs": [],
   "source": [
    "y_pred_class_knn= knn.predict(X_test_dtm)"
   ]
  },
  {
   "cell_type": "code",
   "execution_count": null,
   "metadata": {
    "collapsed": true,
    "scrolled": true
   },
   "outputs": [],
   "source": [
    "#get the accuracy using knn model\n",
    "metrics.accuracy_score(y_test, y_pred_class_knn)"
   ]
  }
 ],
 "metadata": {
  "kernelspec": {
   "display_name": "Python 3",
   "language": "python",
   "name": "python3"
  },
  "language_info": {
   "codemirror_mode": {
    "name": "ipython",
    "version": 3
   },
   "file_extension": ".py",
   "mimetype": "text/x-python",
   "name": "python",
   "nbconvert_exporter": "python",
   "pygments_lexer": "ipython3",
   "version": "3.6.1"
  }
 },
 "nbformat": 4,
 "nbformat_minor": 2
}
