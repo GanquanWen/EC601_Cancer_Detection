{
 "cells": [
  {
   "cell_type": "code",
   "execution_count": 16,
   "metadata": {
    "scrolled": true
   },
   "outputs": [],
   "source": [
    "from sklearn.feature_extraction.text import CountVectorizer\n",
    "import pandas as pd\n",
    "from sklearn.neighbors import KNeighborsClassifier\n",
    "from sklearn.naive_bayes import MultinomialNB\n",
    "from sklearn.linear_model import LogisticRegression\n",
    "from sklearn.cross_validation import cross_val_score\n",
    "from sklearn.feature_extraction.text import TfidfVectorizer\n",
    "from sklearn.model_selection import KFold\n",
    "import sklearn.pipeline as pipe\n",
    "from sklearn.cross_validation import train_test_split\n",
    "from sklearn import metrics\n",
    "from sklearn.svm import SVC\n",
    "from sklearn.decomposition import IncrementalPCA"
   ]
  },
  {
   "cell_type": "code",
   "execution_count": 2,
   "metadata": {
    "collapsed": true,
    "scrolled": true
   },
   "outputs": [],
   "source": [
    "#using pandas to import the original training_text and traning_variant\n",
    "sms = pd.read_table('training_rare_text.txt', encoding= 'UTF8', sep=\"\\\\|\\\\|\",header=None, engine='python', names=['cli_data'])\n",
    "sms2= pd.read_table('training_variants.txt', encoding= 'UTF8', header=None,delimiter=',', engine='python', names=['gene','mutation','classification'])"
   ]
  },
  {
   "cell_type": "code",
   "execution_count": 3,
   "metadata": {
    "scrolled": true
   },
   "outputs": [
    {
     "data": {
      "text/plain": [
       "(3321, 1)"
      ]
     },
     "execution_count": 3,
     "metadata": {},
     "output_type": "execute_result"
    }
   ],
   "source": [
    "sms.shape"
   ]
  },
  {
   "cell_type": "code",
   "execution_count": 4,
   "metadata": {
    "scrolled": true
   },
   "outputs": [
    {
     "data": {
      "text/plain": [
       "pandas.core.frame.DataFrame"
      ]
     },
     "execution_count": 4,
     "metadata": {},
     "output_type": "execute_result"
    }
   ],
   "source": [
    "#a glimpse of the type, doesn't matter\n",
    "type(sms)"
   ]
  },
  {
   "cell_type": "code",
   "execution_count": 5,
   "metadata": {
    "scrolled": false
   },
   "outputs": [
    {
     "data": {
      "text/plain": [
       "(3321, 3)"
      ]
     },
     "execution_count": 5,
     "metadata": {},
     "output_type": "execute_result"
    }
   ],
   "source": [
    "sms2.shape"
   ]
  },
  {
   "cell_type": "code",
   "execution_count": 6,
   "metadata": {
    "scrolled": true
   },
   "outputs": [
    {
     "data": {
      "text/html": [
       "<div>\n",
       "<style>\n",
       "    .dataframe thead tr:only-child th {\n",
       "        text-align: right;\n",
       "    }\n",
       "\n",
       "    .dataframe thead th {\n",
       "        text-align: left;\n",
       "    }\n",
       "\n",
       "    .dataframe tbody tr th {\n",
       "        vertical-align: top;\n",
       "    }\n",
       "</style>\n",
       "<table border=\"1\" class=\"dataframe\">\n",
       "  <thead>\n",
       "    <tr style=\"text-align: right;\">\n",
       "      <th></th>\n",
       "      <th>cli_data</th>\n",
       "    </tr>\n",
       "  </thead>\n",
       "  <tbody>\n",
       "    <tr>\n",
       "      <th>0</th>\n",
       "      <td>Cyclin dependent kinases CDKs regulate variety...</td>\n",
       "    </tr>\n",
       "    <tr>\n",
       "      <th>1</th>\n",
       "      <td>Abstract Background Non small lung NSCLC heter...</td>\n",
       "    </tr>\n",
       "    <tr>\n",
       "      <th>2</th>\n",
       "      <td>Abstract Background Non small lung NSCLC heter...</td>\n",
       "    </tr>\n",
       "    <tr>\n",
       "      <th>3</th>\n",
       "      <td>Recent evidence demonstrated acquired uniparen...</td>\n",
       "    </tr>\n",
       "    <tr>\n",
       "      <th>4</th>\n",
       "      <td>Oncogenic monomeric Casitas B lineage lymphoma...</td>\n",
       "    </tr>\n",
       "    <tr>\n",
       "      <th>5</th>\n",
       "      <td>Oncogenic monomeric Casitas B lineage lymphoma...</td>\n",
       "    </tr>\n",
       "    <tr>\n",
       "      <th>6</th>\n",
       "      <td>Oncogenic monomeric Casitas B lineage lymphoma...</td>\n",
       "    </tr>\n",
       "    <tr>\n",
       "      <th>7</th>\n",
       "      <td>CBL negative regulator activated receptor tyro...</td>\n",
       "    </tr>\n",
       "    <tr>\n",
       "      <th>8</th>\n",
       "      <td>Abstract Juvenile myelomonocytic leukemia JMML...</td>\n",
       "    </tr>\n",
       "    <tr>\n",
       "      <th>9</th>\n",
       "      <td>Abstract Juvenile myelomonocytic leukemia JMML...</td>\n",
       "    </tr>\n",
       "  </tbody>\n",
       "</table>\n",
       "</div>"
      ],
      "text/plain": [
       "                                            cli_data\n",
       "0  Cyclin dependent kinases CDKs regulate variety...\n",
       "1  Abstract Background Non small lung NSCLC heter...\n",
       "2  Abstract Background Non small lung NSCLC heter...\n",
       "3  Recent evidence demonstrated acquired uniparen...\n",
       "4  Oncogenic monomeric Casitas B lineage lymphoma...\n",
       "5  Oncogenic monomeric Casitas B lineage lymphoma...\n",
       "6  Oncogenic monomeric Casitas B lineage lymphoma...\n",
       "7  CBL negative regulator activated receptor tyro...\n",
       "8  Abstract Juvenile myelomonocytic leukemia JMML...\n",
       "9  Abstract Juvenile myelomonocytic leukemia JMML..."
      ]
     },
     "execution_count": 6,
     "metadata": {},
     "output_type": "execute_result"
    }
   ],
   "source": [
    "#the first 10 lines of the text file\n",
    "sms.head(10)"
   ]
  },
  {
   "cell_type": "code",
   "execution_count": 7,
   "metadata": {
    "scrolled": true
   },
   "outputs": [
    {
     "data": {
      "text/html": [
       "<div>\n",
       "<style>\n",
       "    .dataframe thead tr:only-child th {\n",
       "        text-align: right;\n",
       "    }\n",
       "\n",
       "    .dataframe thead th {\n",
       "        text-align: left;\n",
       "    }\n",
       "\n",
       "    .dataframe tbody tr th {\n",
       "        vertical-align: top;\n",
       "    }\n",
       "</style>\n",
       "<table border=\"1\" class=\"dataframe\">\n",
       "  <thead>\n",
       "    <tr style=\"text-align: right;\">\n",
       "      <th></th>\n",
       "      <th>gene</th>\n",
       "      <th>mutation</th>\n",
       "      <th>classification</th>\n",
       "    </tr>\n",
       "  </thead>\n",
       "  <tbody>\n",
       "    <tr>\n",
       "      <th>0</th>\n",
       "      <td>FAM58A</td>\n",
       "      <td>Truncating Mutations</td>\n",
       "      <td>1</td>\n",
       "    </tr>\n",
       "    <tr>\n",
       "      <th>1</th>\n",
       "      <td>CBL</td>\n",
       "      <td>W802*</td>\n",
       "      <td>2</td>\n",
       "    </tr>\n",
       "    <tr>\n",
       "      <th>2</th>\n",
       "      <td>CBL</td>\n",
       "      <td>Q249E</td>\n",
       "      <td>2</td>\n",
       "    </tr>\n",
       "    <tr>\n",
       "      <th>3</th>\n",
       "      <td>CBL</td>\n",
       "      <td>N454D</td>\n",
       "      <td>3</td>\n",
       "    </tr>\n",
       "    <tr>\n",
       "      <th>4</th>\n",
       "      <td>CBL</td>\n",
       "      <td>L399V</td>\n",
       "      <td>4</td>\n",
       "    </tr>\n",
       "    <tr>\n",
       "      <th>5</th>\n",
       "      <td>CBL</td>\n",
       "      <td>V391I</td>\n",
       "      <td>4</td>\n",
       "    </tr>\n",
       "    <tr>\n",
       "      <th>6</th>\n",
       "      <td>CBL</td>\n",
       "      <td>V430M</td>\n",
       "      <td>5</td>\n",
       "    </tr>\n",
       "    <tr>\n",
       "      <th>7</th>\n",
       "      <td>CBL</td>\n",
       "      <td>Deletion</td>\n",
       "      <td>1</td>\n",
       "    </tr>\n",
       "    <tr>\n",
       "      <th>8</th>\n",
       "      <td>CBL</td>\n",
       "      <td>Y371H</td>\n",
       "      <td>4</td>\n",
       "    </tr>\n",
       "    <tr>\n",
       "      <th>9</th>\n",
       "      <td>CBL</td>\n",
       "      <td>C384R</td>\n",
       "      <td>4</td>\n",
       "    </tr>\n",
       "  </tbody>\n",
       "</table>\n",
       "</div>"
      ],
      "text/plain": [
       "     gene              mutation  classification\n",
       "0  FAM58A  Truncating Mutations               1\n",
       "1     CBL                 W802*               2\n",
       "2     CBL                 Q249E               2\n",
       "3     CBL                 N454D               3\n",
       "4     CBL                 L399V               4\n",
       "5     CBL                 V391I               4\n",
       "6     CBL                 V430M               5\n",
       "7     CBL              Deletion               1\n",
       "8     CBL                 Y371H               4\n",
       "9     CBL                 C384R               4"
      ]
     },
     "execution_count": 7,
     "metadata": {},
     "output_type": "execute_result"
    }
   ],
   "source": [
    "#first 10 lines of the variants file\n",
    "sms2.head(10)"
   ]
  },
  {
   "cell_type": "code",
   "execution_count": 8,
   "metadata": {
    "scrolled": false
   },
   "outputs": [
    {
     "name": "stdout",
     "output_type": "stream",
     "text": [
      "{7: 0.2878284506191483, 4: 0.20718816067653276, 1: 0.17154938085170643, 2: 0.13651464814255512, 6: 0.083056478405315617, 5: 0.073089700996677748, 3: 0.026880096647538508, 9: 0.01117487163998792, 8: 0.0057384475989127152}\n"
     ]
    }
   ],
   "source": [
    "#the classification is very imbalanced use this dictinaty as the \"class-weight\" parameter when do model fitting\n",
    "weighted=sms2.classification.value_counts()\n",
    "weight_dict=dict()\n",
    "for key in weighted.keys():\n",
    "    weight_dict[key]=weighted[key]/3311\n",
    "print(weight_dict)"
   ]
  },
  {
   "cell_type": "code",
   "execution_count": 9,
   "metadata": {
    "collapsed": true,
    "scrolled": false
   },
   "outputs": [],
   "source": [
    "#define the X and y to be feed to the model\n",
    "X = sms.cli_data\n",
    "y = sms2.classification"
   ]
  },
  {
   "cell_type": "code",
   "execution_count": 10,
   "metadata": {
    "scrolled": false
   },
   "outputs": [
    {
     "name": "stdout",
     "output_type": "stream",
     "text": [
      "(2490,)\n",
      "(831,)\n",
      "(2490,)\n",
      "(831,)\n"
     ]
    }
   ],
   "source": [
    "#split the training data into \"train\" and \"test\" when run the model\n",
    "X_train, X_test, y_train, y_test = train_test_split(X, y, random_state=1)\n",
    "print(X_train.shape)\n",
    "print(X_test.shape)\n",
    "print(y_train.shape)\n",
    "print(y_test.shape)"
   ]
  },
  {
   "cell_type": "code",
   "execution_count": 6,
   "metadata": {},
   "outputs": [
    {
     "name": "stdout",
     "output_type": "stream",
     "text": [
      "2214\n",
      "2214\n",
      "2214\n"
     ]
    }
   ],
   "source": [
    "#using kfold to split the data\n",
    "kf=KFold(n_splits=3)\n",
    "array_nb=[]\n",
    "array_lr=[]\n",
    "array_svc=[]\n",
    "score_nb=0\n",
    "score_lr=0\n",
    "score_svc=0\n",
    "i=0\n",
    "for train_indices,test_indices in kf.split(X,y):\n",
    "    X_train=X[train_indices]\n",
    "    y_train=y[train_indices] \n",
    "    X_test=X[test_indices] \n",
    "    y_test=y[test_indices] \n",
    "    print(len(X_train))\n",
    "    \n",
    "    vect = CountVectorizer()\n",
    "    X_train_dtm = vect.fit_transform(X_train)\n",
    "    X_test_dtm = vect.transform(X_test)\n",
    "    \n",
    "    weighted=y_train.value_counts()\n",
    "    weight_dict=dict()\n",
    "    for key in weighted.keys():\n",
    "        weight_dict[key]=weighted[key]/len(X_train)\n",
    "    \n",
    "    nb = MultinomialNB()\n",
    "    nb.fit(X_train_dtm, y_train)\n",
    "    y_pred_class_nb = nb.predict(X_test_dtm)\n",
    "    score_nb+=metrics.accuracy_score(y_test, y_pred_class_nb)\n",
    "    array_nb.append(metrics.accuracy_score(y_test, y_pred_class_nb))\n",
    "    \n",
    "    logreg = LogisticRegression(class_weight=weight_dict)\n",
    "    logreg.fit(X_train_dtm, y_train)\n",
    "    y_pred_class_lr = logreg.predict(X_test_dtm)\n",
    "    score_lr+=metrics.accuracy_score(y_test, y_pred_class_lr)\n",
    "    array_lr.append(metrics.accuracy_score(y_test, y_pred_class_lr))\n",
    "    \n",
    "    i=i+1\n",
    "\n",
    "\n",
    "\n",
    "    "
   ]
  },
  {
   "cell_type": "code",
   "execution_count": 7,
   "metadata": {},
   "outputs": [
    {
     "name": "stdout",
     "output_type": "stream",
     "text": [
      "1.05962059621\n",
      "1.10840108401\n",
      "0\n",
      "3\n",
      "[0.32971996386630531, 0.4065040650406504, 0.32339656729900634]\n",
      "[0.34869015356820232, 0.35953026196928634, 0.40018066847335138]\n",
      "[]\n"
     ]
    }
   ],
   "source": [
    "\n",
    "print(score_nb)\n",
    "print(score_lr)\n",
    "print(score_svc)\n",
    "print(i)\n",
    "print(array_nb)\n",
    "print(array_lr)\n",
    "print(array_svc)"
   ]
  },
  {
   "cell_type": "code",
   "execution_count": 9,
   "metadata": {},
   "outputs": [
    {
     "name": "stdout",
     "output_type": "stream",
     "text": [
      "0.353206865402\n",
      "0.369467028004\n"
     ]
    }
   ],
   "source": [
    "accuracy_nb=score_nb/i\n",
    "accuracy_lr=score_lr/i\n",
    "print(accuracy_nb)\n",
    "print(accuracy_lr)\n"
   ]
  },
  {
   "cell_type": "code",
   "execution_count": null,
   "metadata": {
    "collapsed": true
   },
   "outputs": [],
   "source": [
    "#clf = pipe.make_pipeline(TfidfVectorizer(), MultinomialNB())\n",
    "#clf.fit_tansform(X,y)\n",
    "#score=cross_val_score(clf, X, y, cv=10, scoring='accuracy')\n",
    "#print(score)"
   ]
  },
  {
   "cell_type": "code",
   "execution_count": 11,
   "metadata": {
    "collapsed": true,
    "scrolled": true
   },
   "outputs": [],
   "source": [
    "#create the vectorized instance\n",
    "vect = CountVectorizer()"
   ]
  },
  {
   "cell_type": "code",
   "execution_count": 12,
   "metadata": {
    "scrolled": true
   },
   "outputs": [
    {
     "data": {
      "text/plain": [
       "<2490x137273 sparse matrix of type '<class 'numpy.int64'>'\n",
       "\twith 4129644 stored elements in Compressed Sparse Row format>"
      ]
     },
     "execution_count": 12,
     "metadata": {},
     "output_type": "execute_result"
    }
   ],
   "source": [
    "#fit--learn the train vocabulary, as \"features\";transform is to create a \"document term matrix\"\n",
    "X_train_dtm = vect.fit_transform(X_train)\n",
    "X_train_dtm"
   ]
  },
  {
   "cell_type": "code",
   "execution_count": 19,
   "metadata": {
    "scrolled": true
   },
   "outputs": [
    {
     "data": {
      "text/plain": [
       "IncrementalPCA(batch_size=None, copy=True, n_components=None, whiten=False)"
      ]
     },
     "execution_count": 19,
     "metadata": {},
     "output_type": "execute_result"
    }
   ],
   "source": [
    "ipca = IncrementalPCA()\n",
    "ipca.fit(X_train_dtm.toarray())"
   ]
  },
  {
   "cell_type": "code",
   "execution_count": 20,
   "metadata": {},
   "outputs": [
    {
     "data": {
      "text/plain": [
       "array([[ -5.84744804e+01,  -2.09821011e+00,   4.50863496e+01, ...,\n",
       "          3.92914867e-15,  -3.82934786e-15,   1.10328413e-15],\n",
       "       [ -7.15468658e+01,  -4.63838625e-01,   4.77686900e+01, ...,\n",
       "          3.28070904e-14,   4.22289970e-15,   3.11556336e-14],\n",
       "       [  2.39827948e+01,   5.74623663e+01,  -8.80535067e+01, ...,\n",
       "          2.75474088e-15,  -8.80372164e-16,   4.65599781e-15],\n",
       "       ..., \n",
       "       [ -7.24824237e+01,   4.12612782e+00,   2.64805798e+01, ...,\n",
       "         -3.48505946e-15,   3.01488164e-15,   3.64985819e-15],\n",
       "       [  1.11020892e+02,   1.71829060e+02,   6.36967139e+01, ...,\n",
       "          2.17128399e-13,  -1.25868066e-13,  -1.35239042e-13],\n",
       "       [  1.25748961e+01,  -1.37090070e+01,  -1.53634052e+01, ...,\n",
       "         -7.09744763e-14,  -7.91276766e-14,   1.90117019e-14]])"
      ]
     },
     "execution_count": 20,
     "metadata": {},
     "output_type": "execute_result"
    }
   ],
   "source": [
    "ipca.transform(X_train_dtm.toarray())"
   ]
  },
  {
   "cell_type": "code",
   "execution_count": 9,
   "metadata": {
    "scrolled": true
   },
   "outputs": [
    {
     "data": {
      "text/plain": [
       "<831x137273 sparse matrix of type '<class 'numpy.int64'>'\n",
       "\twith 1290716 stored elements in Compressed Sparse Row format>"
      ]
     },
     "execution_count": 9,
     "metadata": {},
     "output_type": "execute_result"
    }
   ],
   "source": [
    "#do the same thing to test file \n",
    "X_test_dtm = vect.transform(X_test)\n",
    "X_test_dtm "
   ]
  },
  {
   "cell_type": "code",
   "execution_count": 10,
   "metadata": {
    "scrolled": true
   },
   "outputs": [
    {
     "data": {
      "text/plain": [
       "MultinomialNB(alpha=1.0, class_prior=None, fit_prior=True)"
      ]
     },
     "execution_count": 10,
     "metadata": {},
     "output_type": "execute_result"
    }
   ],
   "source": [
    "#use naive bayes model to test\n",
    "nb = MultinomialNB()\n",
    "nb.fit(X_train_dtm, y_train)"
   ]
  },
  {
   "cell_type": "code",
   "execution_count": 11,
   "metadata": {
    "scrolled": true
   },
   "outputs": [
    {
     "data": {
      "text/plain": [
       "0.58604091456077012"
      ]
     },
     "execution_count": 11,
     "metadata": {},
     "output_type": "execute_result"
    }
   ],
   "source": [
    "#accuracy using cross-validation\n",
    "y_pred_class_nb = nb.predict(X_test_dtm)\n",
    "metrics.accuracy_score(y_test, y_pred_class_nb)"
   ]
  },
  {
   "cell_type": "code",
   "execution_count": 12,
   "metadata": {},
   "outputs": [
    {
     "name": "stdout",
     "output_type": "stream",
     "text": [
      "[1 7 1 7 4 1 1 2 4 1]\n"
     ]
    }
   ],
   "source": [
    "#the first 10 lines of  prediction\n",
    "print(y_pred_class_nb[:10])"
   ]
  },
  {
   "cell_type": "code",
   "execution_count": 13,
   "metadata": {
    "scrolled": false
   },
   "outputs": [
    {
     "data": {
      "text/plain": [
       "array([[ 87,   7,   0,  16,  18,   5,   9,   0,   0],\n",
       "       [  5,  52,   0,   5,   1,   0,  54,   0,   0],\n",
       "       [  4,   1,  11,   2,   3,   1,   5,   0,   0],\n",
       "       [ 54,   2,   1,  88,  16,   3,   5,   0,   1],\n",
       "       [  9,   1,   0,   3,  24,   4,   8,   0,   1],\n",
       "       [ 10,   5,   1,   0,   6,  35,   4,   0,   0],\n",
       "       [  4,  55,   5,   1,   4,   0, 181,   0,   0],\n",
       "       [  1,   1,   0,   0,   0,   0,   1,   1,   1],\n",
       "       [  0,   0,   0,   0,   0,   0,   1,   0,   8]])"
      ]
     },
     "execution_count": 13,
     "metadata": {},
     "output_type": "execute_result"
    }
   ],
   "source": [
    "metrics.confusion_matrix(y_test, y_pred_class_nb)\n",
    "#class 2&7 1&4 are easy to get confused"
   ]
  },
  {
   "cell_type": "code",
   "execution_count": 15,
   "metadata": {
    "scrolled": true
   },
   "outputs": [
    {
     "data": {
      "text/plain": [
       "array([[  1.00000000e+000,   0.00000000e+000,   0.00000000e+000,\n",
       "          0.00000000e+000,   0.00000000e+000,   0.00000000e+000,\n",
       "          0.00000000e+000,   0.00000000e+000,   0.00000000e+000],\n",
       "       [  0.00000000e+000,   0.00000000e+000,   0.00000000e+000,\n",
       "          0.00000000e+000,   0.00000000e+000,   0.00000000e+000,\n",
       "          1.00000000e+000,   0.00000000e+000,   0.00000000e+000],\n",
       "       [  1.00000000e+000,   0.00000000e+000,   0.00000000e+000,\n",
       "          0.00000000e+000,   0.00000000e+000,   0.00000000e+000,\n",
       "          0.00000000e+000,   0.00000000e+000,   0.00000000e+000],\n",
       "       [  1.70865906e-162,   2.75034046e-075,   0.00000000e+000,\n",
       "          6.35541307e-163,   0.00000000e+000,   0.00000000e+000,\n",
       "          1.00000000e+000,   0.00000000e+000,   0.00000000e+000],\n",
       "       [  5.83630847e-011,   0.00000000e+000,   0.00000000e+000,\n",
       "          1.00000000e+000,   0.00000000e+000,   0.00000000e+000,\n",
       "          0.00000000e+000,   0.00000000e+000,   0.00000000e+000],\n",
       "       [  1.00000000e+000,   4.24860525e-127,   0.00000000e+000,\n",
       "          3.51845290e-038,   5.25210550e-203,   2.83554873e-266,\n",
       "          1.57561132e-130,   0.00000000e+000,   0.00000000e+000],\n",
       "       [  1.00000000e+000,   0.00000000e+000,   0.00000000e+000,\n",
       "          9.55801781e-247,   0.00000000e+000,   0.00000000e+000,\n",
       "          2.03538743e-287,   0.00000000e+000,   0.00000000e+000],\n",
       "       [  0.00000000e+000,   1.00000000e+000,   0.00000000e+000,\n",
       "          0.00000000e+000,   0.00000000e+000,   0.00000000e+000,\n",
       "          2.02762583e-200,   0.00000000e+000,   0.00000000e+000],\n",
       "       [  1.90839738e-215,   0.00000000e+000,   0.00000000e+000,\n",
       "          1.00000000e+000,   0.00000000e+000,   0.00000000e+000,\n",
       "          0.00000000e+000,   0.00000000e+000,   0.00000000e+000],\n",
       "       [  1.00000000e+000,   0.00000000e+000,   0.00000000e+000,\n",
       "          0.00000000e+000,   0.00000000e+000,   0.00000000e+000,\n",
       "          0.00000000e+000,   0.00000000e+000,   0.00000000e+000]])"
      ]
     },
     "execution_count": 15,
     "metadata": {},
     "output_type": "execute_result"
    }
   ],
   "source": [
    "#first 10 lines of classification prediction probality \n",
    "y_pred_prob = nb.predict_proba(X_test_dtm)[:10]\n",
    "y_pred_prob"
   ]
  },
  {
   "cell_type": "code",
   "execution_count": 16,
   "metadata": {
    "scrolled": false
   },
   "outputs": [
    {
     "data": {
      "text/plain": [
       "LogisticRegression(C=1.0,\n",
       "          class_weight={7: 0.2878284506191483, 4: 0.20718816067653276, 1: 0.17154938085170643, 2: 0.13651464814255512, 6: 0.083056478405315617, 5: 0.073089700996677748, 3: 0.026880096647538508, 9: 0.01117487163998792, 8: 0.0057384475989127152},\n",
       "          dual=False, fit_intercept=True, intercept_scaling=1,\n",
       "          max_iter=100, multi_class='ovr', n_jobs=1, penalty='l2',\n",
       "          random_state=None, solver='liblinear', tol=0.0001, verbose=0,\n",
       "          warm_start=False)"
      ]
     },
     "execution_count": 16,
     "metadata": {},
     "output_type": "execute_result"
    }
   ],
   "source": [
    "#use logistic regression model to test\n",
    "logreg = LogisticRegression(class_weight=weight_dict)\n",
    "logreg.fit(X_train_dtm, y_train)"
   ]
  },
  {
   "cell_type": "code",
   "execution_count": 17,
   "metadata": {
    "collapsed": true,
    "scrolled": true
   },
   "outputs": [],
   "source": [
    "y_pred_class = logreg.predict(X_test_dtm)"
   ]
  },
  {
   "cell_type": "code",
   "execution_count": 18,
   "metadata": {
    "scrolled": false
   },
   "outputs": [
    {
     "name": "stdout",
     "output_type": "stream",
     "text": [
      "[[  9.99988442e-01   1.06558855e-11   8.30291578e-21   2.09112728e-10\n",
      "    9.52141920e-13   1.15518796e-05   5.65273130e-09   2.41168829e-21\n",
      "    7.84261402e-24]\n",
      " [  2.61632222e-09   1.17640396e-07   1.88508002e-04   1.40052587e-09\n",
      "    2.97406845e-05   3.60008739e-09   9.99781620e-01   6.29421053e-09\n",
      "    9.50902008e-12]\n",
      " [  9.99826533e-01   9.35293678e-07   4.49139471e-07   3.80754072e-05\n",
      "    1.63223354e-05   5.68374735e-05   6.08423382e-05   5.07394926e-09\n",
      "    8.69378227e-11]\n",
      " [  1.24193972e-03   3.72897207e-01   2.32254519e-05   3.95197289e-01\n",
      "    1.76435491e-03   3.14284789e-02   1.97434720e-01   7.63474978e-08\n",
      "    1.27079280e-05]\n",
      " [  2.11958262e-01   9.64285247e-16   1.17606231e-09   7.88041370e-01\n",
      "    3.22433640e-07   4.36960682e-08   7.58629771e-10   5.86208226e-15\n",
      "    1.85229237e-13]\n",
      " [  1.77231855e-02   2.22291307e-02   5.00531528e-03   8.21416501e-01\n",
      "    2.10611042e-02   1.06138708e-01   5.25225164e-03   2.49227820e-04\n",
      "    9.24575127e-04]\n",
      " [  2.67100116e-04   3.75715637e-10   9.36703126e-18   9.99732887e-01\n",
      "    1.16945453e-09   3.72428863e-12   1.13963400e-08   2.05597841e-20\n",
      "    1.08343369e-22]\n",
      " [  1.41051019e-04   9.99293217e-01   2.01003051e-08   1.24693327e-07\n",
      "    5.15592933e-05   1.68497566e-04   3.45504682e-04   1.70257571e-09\n",
      "    2.38380820e-08]\n",
      " [  7.79981667e-04   3.13300967e-05   1.56914672e-06   9.98857654e-01\n",
      "    6.86137848e-05   1.40828514e-04   1.19961901e-04   4.25272923e-08\n",
      "    1.86101944e-08]\n",
      " [  9.99995274e-01   9.59885017e-11   1.66297191e-17   1.05807365e-06\n",
      "    1.06640722e-06   1.13431256e-09   2.59999499e-06   6.51183254e-17\n",
      "    6.44609998e-19]]\n"
     ]
    }
   ],
   "source": [
    "#predicted probiblity of each class for the first 10 lines\n",
    "y_pred_prob_lr = logreg.predict_proba(X_test_dtm)[:10]\n",
    "print(y_pred_prob_lr)"
   ]
  },
  {
   "cell_type": "code",
   "execution_count": 19,
   "metadata": {
    "scrolled": true
   },
   "outputs": [
    {
     "data": {
      "text/plain": [
       "0.63297232250300839"
      ]
     },
     "execution_count": 19,
     "metadata": {},
     "output_type": "execute_result"
    }
   ],
   "source": [
    "#the accuracy using log_regression model\n",
    "metrics.accuracy_score(y_test, y_pred_class)"
   ]
  },
  {
   "cell_type": "code",
   "execution_count": 20,
   "metadata": {},
   "outputs": [
    {
     "data": {
      "text/plain": [
       "array([[ 82,   3,   0,  36,   6,   7,   8,   0,   0],\n",
       "       [  5,  57,   0,   4,   0,   4,  47,   0,   0],\n",
       "       [  1,   0,   1,  10,   1,   0,  14,   0,   0],\n",
       "       [ 24,   1,   1, 125,  12,   2,   5,   0,   0],\n",
       "       [ 15,   0,   0,   9,  10,   5,  11,   0,   0],\n",
       "       [  7,   5,   1,   2,   3,  40,   3,   0,   0],\n",
       "       [  5,  31,   0,   5,   5,   2, 202,   0,   0],\n",
       "       [  0,   0,   0,   0,   0,   0,   2,   3,   0],\n",
       "       [  0,   0,   0,   2,   0,   0,   1,   0,   6]])"
      ]
     },
     "execution_count": 20,
     "metadata": {},
     "output_type": "execute_result"
    }
   ],
   "source": [
    "#the inaccuray mainly happened between class 1&4, 2&7\n",
    "metrics.confusion_matrix(y_test, y_pred_class)"
   ]
  },
  {
   "cell_type": "code",
   "execution_count": 21,
   "metadata": {},
   "outputs": [
    {
     "data": {
      "text/plain": [
       "SVC(C=1.0, cache_size=200,\n",
       "  class_weight={7: 0.2878284506191483, 4: 0.20718816067653276, 1: 0.17154938085170643, 2: 0.13651464814255512, 6: 0.083056478405315617, 5: 0.073089700996677748, 3: 0.026880096647538508, 9: 0.01117487163998792, 8: 0.0057384475989127152},\n",
       "  coef0=0.0, decision_function_shape='ovr', degree=3, gamma='auto',\n",
       "  kernel='rbf', max_iter=-1, probability=False, random_state=None,\n",
       "  shrinking=True, tol=0.001, verbose=False)"
      ]
     },
     "execution_count": 21,
     "metadata": {},
     "output_type": "execute_result"
    }
   ],
   "source": [
    "svc=SVC(class_weight=weight_dict)\n",
    "svc.fit(X_train_dtm,y_train)"
   ]
  },
  {
   "cell_type": "code",
   "execution_count": 22,
   "metadata": {
    "collapsed": true
   },
   "outputs": [],
   "source": [
    "y_pred_class_svc=svc.predict(X_test_dtm)"
   ]
  },
  {
   "cell_type": "code",
   "execution_count": 23,
   "metadata": {},
   "outputs": [
    {
     "data": {
      "text/plain": [
       "0.46089049338146809"
      ]
     },
     "execution_count": 23,
     "metadata": {},
     "output_type": "execute_result"
    }
   ],
   "source": [
    "#the accuary of svc model is the lowest\n",
    "metrics.accuracy_score(y_test, y_pred_class_svc)"
   ]
  },
  {
   "cell_type": "code",
   "execution_count": null,
   "metadata": {
    "collapsed": true,
    "scrolled": true
   },
   "outputs": [],
   "source": [
    "#use KNN model to test"
   ]
  },
  {
   "cell_type": "code",
   "execution_count": 24,
   "metadata": {
    "scrolled": true
   },
   "outputs": [
    {
     "data": {
      "text/plain": [
       "KNeighborsClassifier(algorithm='auto', leaf_size=30, metric='minkowski',\n",
       "           metric_params=None, n_jobs=1, n_neighbors=1, p=2,\n",
       "           weights='uniform')"
      ]
     },
     "execution_count": 24,
     "metadata": {},
     "output_type": "execute_result"
    }
   ],
   "source": [
    "knn = KNeighborsClassifier(n_neighbors=1)\n",
    "knn.fit(X_train_dtm, y_train)"
   ]
  },
  {
   "cell_type": "code",
   "execution_count": 25,
   "metadata": {
    "collapsed": true,
    "scrolled": true
   },
   "outputs": [],
   "source": [
    "y_pred_class_knn= knn.predict(X_test_dtm)"
   ]
  },
  {
   "cell_type": "code",
   "execution_count": 26,
   "metadata": {
    "scrolled": true
   },
   "outputs": [
    {
     "data": {
      "text/plain": [
       "0.59687123947051746"
      ]
     },
     "execution_count": 26,
     "metadata": {},
     "output_type": "execute_result"
    }
   ],
   "source": [
    "#get the accuracy using knn model\n",
    "metrics.accuracy_score(y_test, y_pred_class_knn)"
   ]
  }
 ],
 "metadata": {
  "kernelspec": {
   "display_name": "Python 3",
   "language": "python",
   "name": "python3"
  },
  "language_info": {
   "codemirror_mode": {
    "name": "ipython",
    "version": 3
   },
   "file_extension": ".py",
   "mimetype": "text/x-python",
   "name": "python",
   "nbconvert_exporter": "python",
   "pygments_lexer": "ipython3",
   "version": "3.6.1"
  }
 },
 "nbformat": 4,
 "nbformat_minor": 2
}
