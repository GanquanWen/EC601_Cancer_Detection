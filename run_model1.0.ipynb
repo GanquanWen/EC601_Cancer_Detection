{
 "cells": [
  {
   "cell_type": "code",
   "execution_count": 1,
   "metadata": {},
   "outputs": [
    {
     "name": "stderr",
     "output_type": "stream",
     "text": [
      "/Users/Iris/anaconda/lib/python3.6/site-packages/sklearn/cross_validation.py:44: DeprecationWarning: This module was deprecated in version 0.18 in favor of the model_selection module into which all the refactored classes and functions are moved. Also note that the interface of the new CV iterators are different from that of this module. This module will be removed in 0.20.\n",
      "  \"This module will be removed in 0.20.\", DeprecationWarning)\n"
     ]
    }
   ],
   "source": [
    "from sklearn.feature_extraction.text import CountVectorizer\n",
    "import pandas as pd\n",
    "from sklearn.neighbors import KNeighborsClassifier\n",
    "from sklearn.naive_bayes import MultinomialNB\n",
    "from sklearn.linear_model import LogisticRegression\n",
    "from sklearn.cross_validation import train_test_split\n",
    "from sklearn import metrics"
   ]
  },
  {
   "cell_type": "code",
   "execution_count": 3,
   "metadata": {
    "collapsed": true
   },
   "outputs": [],
   "source": [
    "#using pandas to import the original training_text and traning_variant\n",
    "sms = pd.read_table('training_text', header=None, names=['cli_data'])\n",
    "sms2= pd.read_table('training_variants', header=None,delimiter=',', names=['gene','mutation','classification'])"
   ]
  },
  {
   "cell_type": "code",
   "execution_count": 4,
   "metadata": {},
   "outputs": [
    {
     "data": {
      "text/plain": [
       "(3321, 1)"
      ]
     },
     "execution_count": 4,
     "metadata": {},
     "output_type": "execute_result"
    }
   ],
   "source": [
    "sms.shape"
   ]
  },
  {
   "cell_type": "code",
   "execution_count": 5,
   "metadata": {},
   "outputs": [
    {
     "data": {
      "text/plain": [
       "pandas.core.frame.DataFrame"
      ]
     },
     "execution_count": 5,
     "metadata": {},
     "output_type": "execute_result"
    }
   ],
   "source": [
    "#a glimpse of the type, doesn't matter\n",
    "type(sms)"
   ]
  },
  {
   "cell_type": "code",
   "execution_count": 6,
   "metadata": {},
   "outputs": [
    {
     "data": {
      "text/plain": [
       "(3321, 3)"
      ]
     },
     "execution_count": 6,
     "metadata": {},
     "output_type": "execute_result"
    }
   ],
   "source": [
    "sms2.shape"
   ]
  },
  {
   "cell_type": "code",
   "execution_count": 7,
   "metadata": {},
   "outputs": [
    {
     "data": {
      "text/html": [
       "<div>\n",
       "<style>\n",
       "    .dataframe thead tr:only-child th {\n",
       "        text-align: right;\n",
       "    }\n",
       "\n",
       "    .dataframe thead th {\n",
       "        text-align: left;\n",
       "    }\n",
       "\n",
       "    .dataframe tbody tr th {\n",
       "        vertical-align: top;\n",
       "    }\n",
       "</style>\n",
       "<table border=\"1\" class=\"dataframe\">\n",
       "  <thead>\n",
       "    <tr style=\"text-align: right;\">\n",
       "      <th></th>\n",
       "      <th>cli_data</th>\n",
       "    </tr>\n",
       "  </thead>\n",
       "  <tbody>\n",
       "    <tr>\n",
       "      <th>0</th>\n",
       "      <td>0||Cyclin-dependent kinases (CDKs) regulate a ...</td>\n",
       "    </tr>\n",
       "    <tr>\n",
       "      <th>1</th>\n",
       "      <td>1|| Abstract Background  Non-small cell lung c...</td>\n",
       "    </tr>\n",
       "    <tr>\n",
       "      <th>2</th>\n",
       "      <td>2|| Abstract Background  Non-small cell lung c...</td>\n",
       "    </tr>\n",
       "    <tr>\n",
       "      <th>3</th>\n",
       "      <td>3||Recent evidence has demonstrated that acqui...</td>\n",
       "    </tr>\n",
       "    <tr>\n",
       "      <th>4</th>\n",
       "      <td>4||Oncogenic mutations in the monomeric Casita...</td>\n",
       "    </tr>\n",
       "    <tr>\n",
       "      <th>5</th>\n",
       "      <td>5||Oncogenic mutations in the monomeric Casita...</td>\n",
       "    </tr>\n",
       "    <tr>\n",
       "      <th>6</th>\n",
       "      <td>6||Oncogenic mutations in the monomeric Casita...</td>\n",
       "    </tr>\n",
       "    <tr>\n",
       "      <th>7</th>\n",
       "      <td>7||CBL is a negative regulator of activated re...</td>\n",
       "    </tr>\n",
       "    <tr>\n",
       "      <th>8</th>\n",
       "      <td>8|| Abstract Juvenile myelomonocytic leukemia ...</td>\n",
       "    </tr>\n",
       "    <tr>\n",
       "      <th>9</th>\n",
       "      <td>9|| Abstract Juvenile myelomonocytic leukemia ...</td>\n",
       "    </tr>\n",
       "  </tbody>\n",
       "</table>\n",
       "</div>"
      ],
      "text/plain": [
       "                                            cli_data\n",
       "0  0||Cyclin-dependent kinases (CDKs) regulate a ...\n",
       "1  1|| Abstract Background  Non-small cell lung c...\n",
       "2  2|| Abstract Background  Non-small cell lung c...\n",
       "3  3||Recent evidence has demonstrated that acqui...\n",
       "4  4||Oncogenic mutations in the monomeric Casita...\n",
       "5  5||Oncogenic mutations in the monomeric Casita...\n",
       "6  6||Oncogenic mutations in the monomeric Casita...\n",
       "7  7||CBL is a negative regulator of activated re...\n",
       "8  8|| Abstract Juvenile myelomonocytic leukemia ...\n",
       "9  9|| Abstract Juvenile myelomonocytic leukemia ..."
      ]
     },
     "execution_count": 7,
     "metadata": {},
     "output_type": "execute_result"
    }
   ],
   "source": [
    "#the first 10 lines of the text file\n",
    "sms.head(10)"
   ]
  },
  {
   "cell_type": "code",
   "execution_count": 8,
   "metadata": {},
   "outputs": [
    {
     "data": {
      "text/html": [
       "<div>\n",
       "<style>\n",
       "    .dataframe thead tr:only-child th {\n",
       "        text-align: right;\n",
       "    }\n",
       "\n",
       "    .dataframe thead th {\n",
       "        text-align: left;\n",
       "    }\n",
       "\n",
       "    .dataframe tbody tr th {\n",
       "        vertical-align: top;\n",
       "    }\n",
       "</style>\n",
       "<table border=\"1\" class=\"dataframe\">\n",
       "  <thead>\n",
       "    <tr style=\"text-align: right;\">\n",
       "      <th></th>\n",
       "      <th>gene</th>\n",
       "      <th>mutation</th>\n",
       "      <th>classification</th>\n",
       "    </tr>\n",
       "  </thead>\n",
       "  <tbody>\n",
       "    <tr>\n",
       "      <th>0</th>\n",
       "      <td>FAM58A</td>\n",
       "      <td>Truncating Mutations</td>\n",
       "      <td>1</td>\n",
       "    </tr>\n",
       "    <tr>\n",
       "      <th>1</th>\n",
       "      <td>CBL</td>\n",
       "      <td>W802*</td>\n",
       "      <td>2</td>\n",
       "    </tr>\n",
       "    <tr>\n",
       "      <th>2</th>\n",
       "      <td>CBL</td>\n",
       "      <td>Q249E</td>\n",
       "      <td>2</td>\n",
       "    </tr>\n",
       "    <tr>\n",
       "      <th>3</th>\n",
       "      <td>CBL</td>\n",
       "      <td>N454D</td>\n",
       "      <td>3</td>\n",
       "    </tr>\n",
       "    <tr>\n",
       "      <th>4</th>\n",
       "      <td>CBL</td>\n",
       "      <td>L399V</td>\n",
       "      <td>4</td>\n",
       "    </tr>\n",
       "    <tr>\n",
       "      <th>5</th>\n",
       "      <td>CBL</td>\n",
       "      <td>V391I</td>\n",
       "      <td>4</td>\n",
       "    </tr>\n",
       "    <tr>\n",
       "      <th>6</th>\n",
       "      <td>CBL</td>\n",
       "      <td>V430M</td>\n",
       "      <td>5</td>\n",
       "    </tr>\n",
       "    <tr>\n",
       "      <th>7</th>\n",
       "      <td>CBL</td>\n",
       "      <td>Deletion</td>\n",
       "      <td>1</td>\n",
       "    </tr>\n",
       "    <tr>\n",
       "      <th>8</th>\n",
       "      <td>CBL</td>\n",
       "      <td>Y371H</td>\n",
       "      <td>4</td>\n",
       "    </tr>\n",
       "    <tr>\n",
       "      <th>9</th>\n",
       "      <td>CBL</td>\n",
       "      <td>C384R</td>\n",
       "      <td>4</td>\n",
       "    </tr>\n",
       "  </tbody>\n",
       "</table>\n",
       "</div>"
      ],
      "text/plain": [
       "     gene              mutation  classification\n",
       "0  FAM58A  Truncating Mutations               1\n",
       "1     CBL                 W802*               2\n",
       "2     CBL                 Q249E               2\n",
       "3     CBL                 N454D               3\n",
       "4     CBL                 L399V               4\n",
       "5     CBL                 V391I               4\n",
       "6     CBL                 V430M               5\n",
       "7     CBL              Deletion               1\n",
       "8     CBL                 Y371H               4\n",
       "9     CBL                 C384R               4"
      ]
     },
     "execution_count": 8,
     "metadata": {},
     "output_type": "execute_result"
    }
   ],
   "source": [
    "#first 10 lines of the variants file\n",
    "sms2.head(10)"
   ]
  },
  {
   "cell_type": "code",
   "execution_count": 9,
   "metadata": {},
   "outputs": [
    {
     "data": {
      "text/plain": [
       "7    953\n",
       "4    686\n",
       "1    568\n",
       "2    452\n",
       "6    275\n",
       "5    242\n",
       "3     89\n",
       "9     37\n",
       "8     19\n",
       "Name: classification, dtype: int64"
      ]
     },
     "execution_count": 9,
     "metadata": {},
     "output_type": "execute_result"
    }
   ],
   "source": [
    "#to see the number of each class in variant, doesn't matter\n",
    "sms2.classification.value_counts()"
   ]
  },
  {
   "cell_type": "code",
   "execution_count": 10,
   "metadata": {},
   "outputs": [
    {
     "name": "stdout",
     "output_type": "stream",
     "text": [
      "(3321,)\n",
      "(3321,)\n"
     ]
    }
   ],
   "source": [
    "#define the X and y to be feed to the model\n",
    "X = sms.cli_data\n",
    "y = sms2.classification\n",
    "print(X.shape)\n",
    "print(y.shape)"
   ]
  },
  {
   "cell_type": "code",
   "execution_count": 11,
   "metadata": {},
   "outputs": [
    {
     "name": "stdout",
     "output_type": "stream",
     "text": [
      "(2490,)\n",
      "(831,)\n",
      "(2490,)\n",
      "(831,)\n"
     ]
    }
   ],
   "source": [
    "#split the training data into \"train\" and \"test\" when run the model\n",
    "X_train, X_test, y_train, y_test = train_test_split(X, y, random_state=1)\n",
    "print(X_train.shape)\n",
    "print(X_test.shape)\n",
    "print(y_train.shape)\n",
    "print(y_test.shape)"
   ]
  },
  {
   "cell_type": "code",
   "execution_count": 12,
   "metadata": {
    "collapsed": true
   },
   "outputs": [],
   "source": [
    "#create the vectorized instance\n",
    "vect = CountVectorizer()"
   ]
  },
  {
   "cell_type": "code",
   "execution_count": 13,
   "metadata": {},
   "outputs": [
    {
     "data": {
      "text/plain": [
       "<2490x118452 sparse matrix of type '<class 'numpy.int64'>'\n",
       "\twith 3737377 stored elements in Compressed Sparse Row format>"
      ]
     },
     "execution_count": 13,
     "metadata": {},
     "output_type": "execute_result"
    }
   ],
   "source": [
    "#fit--learn the train vocabulary, as \"features\";transform is to create a \"document term matrix\"\n",
    "X_train_dtm = vect.fit_transform(X_train)\n",
    "X_train_dtm"
   ]
  },
  {
   "cell_type": "code",
   "execution_count": 14,
   "metadata": {},
   "outputs": [
    {
     "data": {
      "text/plain": [
       "<831x118452 sparse matrix of type '<class 'numpy.int64'>'\n",
       "\twith 1204606 stored elements in Compressed Sparse Row format>"
      ]
     },
     "execution_count": 14,
     "metadata": {},
     "output_type": "execute_result"
    }
   ],
   "source": [
    "#do the same thing to test file \n",
    "X_test_dtm = vect.transform(X_test)\n",
    "X_test_dtm "
   ]
  },
  {
   "cell_type": "code",
   "execution_count": 15,
   "metadata": {},
   "outputs": [
    {
     "data": {
      "text/plain": [
       "MultinomialNB(alpha=1.0, class_prior=None, fit_prior=True)"
      ]
     },
     "execution_count": 15,
     "metadata": {},
     "output_type": "execute_result"
    }
   ],
   "source": [
    "#use naive bayes model to test\n",
    "nb = MultinomialNB()\n",
    "nb.fit(X_train_dtm, y_train)"
   ]
  },
  {
   "cell_type": "code",
   "execution_count": 29,
   "metadata": {},
   "outputs": [
    {
     "data": {
      "text/plain": [
       "0.58844765342960292"
      ]
     },
     "execution_count": 29,
     "metadata": {},
     "output_type": "execute_result"
    }
   ],
   "source": [
    "#accuracy\n",
    "y_pred_class_nb = nb.predict(X_test_dtm)\n",
    "metrics.accuracy_score(y_test, y_pred_class_nb)"
   ]
  },
  {
   "cell_type": "code",
   "execution_count": 17,
   "metadata": {},
   "outputs": [
    {
     "data": {
      "text/plain": [
       "array([[ 88,   9,   0,  12,  18,   5,  10,   0,   0],\n",
       "       [  4,  59,   0,   5,   1,   1,  47,   0,   0],\n",
       "       [  4,   1,  10,   2,   3,   1,   6,   0,   0],\n",
       "       [ 57,   1,   1,  86,  16,   3,   5,   0,   1],\n",
       "       [  9,   2,   0,   3,  24,   3,   8,   0,   1],\n",
       "       [ 10,   3,   1,   0,   6,  36,   5,   0,   0],\n",
       "       [  6,  58,   3,   1,   4,   1, 177,   0,   0],\n",
       "       [  1,   1,   0,   0,   0,   0,   1,   1,   1],\n",
       "       [  0,   0,   0,   0,   0,   0,   1,   0,   8]])"
      ]
     },
     "execution_count": 17,
     "metadata": {},
     "output_type": "execute_result"
    }
   ],
   "source": [
    "metrics.confusion_matrix(y_test, y_pred_class)"
   ]
  },
  {
   "cell_type": "code",
   "execution_count": 21,
   "metadata": {},
   "outputs": [
    {
     "data": {
      "text/plain": [
       "array([  0.00000000e+000,   0.00000000e+000,   0.00000000e+000,\n",
       "         6.60548934e-095,   0.00000000e+000,   1.27072817e-094,\n",
       "         0.00000000e+000,   1.00000000e+000,   0.00000000e+000,\n",
       "         0.00000000e+000,   3.19557943e-007,   0.00000000e+000,\n",
       "         0.00000000e+000,   2.48625739e-039,   0.00000000e+000,\n",
       "         0.00000000e+000,   0.00000000e+000,   1.00000000e+000,\n",
       "         1.02078755e-150,   8.00694260e-222,   2.23828874e-091,\n",
       "         3.62100539e-074,   0.00000000e+000,   0.00000000e+000,\n",
       "         0.00000000e+000,   0.00000000e+000,   6.11464884e-001,\n",
       "         1.20962243e-111,   0.00000000e+000,   0.00000000e+000,\n",
       "         1.11142998e-217,   0.00000000e+000,   0.00000000e+000,\n",
       "         0.00000000e+000,   0.00000000e+000,   5.42273348e-205,\n",
       "         0.00000000e+000,   8.14726214e-074,   1.00000000e+000,\n",
       "         1.00000000e+000,   5.56764140e-294,   8.87809204e-134,\n",
       "         0.00000000e+000,   0.00000000e+000,   0.00000000e+000,\n",
       "         1.02005087e-146,   1.00000000e+000,   0.00000000e+000,\n",
       "         0.00000000e+000,   0.00000000e+000,   0.00000000e+000,\n",
       "         2.52992461e-258,   0.00000000e+000,   2.97374170e-194,\n",
       "         0.00000000e+000,   0.00000000e+000,   0.00000000e+000,\n",
       "         0.00000000e+000,   0.00000000e+000,   0.00000000e+000,\n",
       "         1.00000000e+000,   0.00000000e+000,   0.00000000e+000,\n",
       "         3.21161357e-145,   1.00000000e+000,   0.00000000e+000,\n",
       "         0.00000000e+000,   0.00000000e+000,   1.47371818e-200,\n",
       "         1.00000000e+000,   0.00000000e+000,   3.01584552e-159,\n",
       "         0.00000000e+000,   0.00000000e+000,   0.00000000e+000,\n",
       "         0.00000000e+000,   1.29276761e-178,   1.82710939e-031,\n",
       "         2.62623241e-027,   2.51923974e-317,   0.00000000e+000,\n",
       "         9.99914338e-001,   0.00000000e+000,   0.00000000e+000,\n",
       "         1.00000000e+000,   0.00000000e+000,   0.00000000e+000,\n",
       "         0.00000000e+000,   2.12005653e-064,   0.00000000e+000,\n",
       "         0.00000000e+000,   0.00000000e+000,   0.00000000e+000,\n",
       "         0.00000000e+000,   4.05370680e-236,   1.00000000e+000,\n",
       "         0.00000000e+000,   1.00000000e+000,   0.00000000e+000,\n",
       "         0.00000000e+000,   1.06285595e-006,   0.00000000e+000,\n",
       "         0.00000000e+000,   0.00000000e+000,   0.00000000e+000,\n",
       "         0.00000000e+000,   0.00000000e+000,   2.36682068e-120,\n",
       "         0.00000000e+000,   0.00000000e+000,   0.00000000e+000,\n",
       "         0.00000000e+000,   1.00000000e+000,   0.00000000e+000,\n",
       "         0.00000000e+000,   0.00000000e+000,   0.00000000e+000,\n",
       "         0.00000000e+000,   0.00000000e+000,   0.00000000e+000,\n",
       "         2.90988772e-047,   0.00000000e+000,   1.00000000e+000,\n",
       "         0.00000000e+000,   9.72862122e-168,   1.00000000e+000,\n",
       "         1.72470966e-175,   0.00000000e+000,   0.00000000e+000,\n",
       "         0.00000000e+000,   0.00000000e+000,   0.00000000e+000,\n",
       "         0.00000000e+000,   0.00000000e+000,   0.00000000e+000,\n",
       "         1.46599800e-284,   0.00000000e+000,   9.99999994e-001,\n",
       "         1.18545612e-019,   3.03869541e-223,   3.97898418e-220,\n",
       "         1.81729904e-075,   0.00000000e+000,   0.00000000e+000,\n",
       "         1.00000000e+000,   1.00000000e+000,   3.30264014e-222,\n",
       "         1.00000000e+000,   1.00000000e+000,   2.09774244e-295,\n",
       "         0.00000000e+000,   1.34743232e-110,   0.00000000e+000,\n",
       "         2.95006853e-031,   1.38628674e-211,   1.00000000e+000,\n",
       "         1.52730896e-017,   0.00000000e+000,   4.75770011e-144,\n",
       "         0.00000000e+000,   0.00000000e+000,   2.97206587e-296,\n",
       "         4.21263571e-123,   1.00000000e+000,   0.00000000e+000,\n",
       "         0.00000000e+000,   0.00000000e+000,   0.00000000e+000,\n",
       "         0.00000000e+000,   0.00000000e+000,   5.43150809e-074,\n",
       "         1.00000000e+000,   0.00000000e+000,   1.00000000e+000,\n",
       "         0.00000000e+000,   6.61383645e-068,   1.09706987e-260,\n",
       "         1.00000000e+000,   0.00000000e+000,   3.53794064e-048,\n",
       "         2.45390903e-019,   0.00000000e+000,   0.00000000e+000,\n",
       "         5.49290832e-034,   3.35099561e-032,   1.20799955e-228,\n",
       "         1.00000000e+000,   0.00000000e+000,   0.00000000e+000,\n",
       "         0.00000000e+000,   3.28125934e-070,   1.00000000e+000,\n",
       "         9.48632708e-013,   0.00000000e+000,   5.31244298e-180,\n",
       "         0.00000000e+000,   0.00000000e+000,   7.53339200e-177,\n",
       "         0.00000000e+000,   2.11440205e-184,   0.00000000e+000,\n",
       "         1.00000000e+000,   1.19037904e-062,   0.00000000e+000,\n",
       "         0.00000000e+000,   5.54717310e-253,   2.25318520e-038,\n",
       "         0.00000000e+000,   0.00000000e+000,   2.47910690e-127,\n",
       "         0.00000000e+000,   0.00000000e+000,   1.00000000e+000,\n",
       "         0.00000000e+000,   0.00000000e+000,   9.99987549e-001,\n",
       "         0.00000000e+000,   8.74355241e-218,   0.00000000e+000,\n",
       "         0.00000000e+000,   0.00000000e+000,   1.88736134e-126,\n",
       "         6.37846898e-016,   0.00000000e+000,   0.00000000e+000,\n",
       "         0.00000000e+000,   1.22889174e-202,   1.00000000e+000,\n",
       "         3.87798226e-163,   2.28731071e-093,   2.92990012e-207,\n",
       "         0.00000000e+000,   0.00000000e+000,   0.00000000e+000,\n",
       "         0.00000000e+000,   1.57636087e-260,   1.00000000e+000,\n",
       "         6.36101841e-149,   0.00000000e+000,   1.00000000e+000,\n",
       "         0.00000000e+000,   9.99999453e-001,   0.00000000e+000,\n",
       "         1.11210886e-178,   1.52730896e-017,   0.00000000e+000,\n",
       "         0.00000000e+000,   4.63739292e-005,   0.00000000e+000,\n",
       "         0.00000000e+000,   1.37139891e-265,   1.03167241e-205,\n",
       "         0.00000000e+000,   1.00000000e+000,   0.00000000e+000,\n",
       "         0.00000000e+000,   0.00000000e+000,   0.00000000e+000,\n",
       "         0.00000000e+000,   1.00000000e+000,   0.00000000e+000,\n",
       "         0.00000000e+000,   0.00000000e+000,   1.00000000e+000,\n",
       "         0.00000000e+000,   0.00000000e+000,   3.04147636e-001,\n",
       "         0.00000000e+000,   0.00000000e+000,   2.66275776e-286,\n",
       "         9.99999713e-001,   4.91670149e-136,   2.23126030e-135,\n",
       "         0.00000000e+000,   0.00000000e+000,   5.25246482e-027,\n",
       "         1.43597907e-041,   0.00000000e+000,   0.00000000e+000,\n",
       "         0.00000000e+000,   0.00000000e+000,   0.00000000e+000,\n",
       "         0.00000000e+000,   0.00000000e+000,   0.00000000e+000,\n",
       "         0.00000000e+000,   0.00000000e+000,   0.00000000e+000,\n",
       "         2.11412777e-037,   0.00000000e+000,   0.00000000e+000,\n",
       "         0.00000000e+000,   1.00000000e+000,   0.00000000e+000,\n",
       "         0.00000000e+000,   0.00000000e+000,   1.00000000e+000,\n",
       "         1.00000000e+000,   0.00000000e+000,   0.00000000e+000,\n",
       "         3.01584552e-159,   0.00000000e+000,   7.04709258e-038,\n",
       "         0.00000000e+000,   0.00000000e+000,   1.00000000e+000,\n",
       "         0.00000000e+000,   0.00000000e+000,   0.00000000e+000,\n",
       "         1.00000000e+000,   0.00000000e+000,   0.00000000e+000,\n",
       "         4.94065646e-324,   0.00000000e+000,   0.00000000e+000,\n",
       "         0.00000000e+000,   2.26305234e-036,   8.72803522e-086,\n",
       "         2.66675286e-100,   0.00000000e+000,   0.00000000e+000,\n",
       "         0.00000000e+000,   1.00000000e+000,   0.00000000e+000,\n",
       "         0.00000000e+000,   9.10171070e-179,   0.00000000e+000,\n",
       "         1.00000000e+000,   1.16842633e-116,   0.00000000e+000,\n",
       "         6.02671360e-176,   0.00000000e+000,   0.00000000e+000,\n",
       "         0.00000000e+000,   0.00000000e+000,   0.00000000e+000,\n",
       "         0.00000000e+000,   6.32635738e-078,   1.00000000e+000,\n",
       "         7.08431644e-058,   8.23068656e-264,   0.00000000e+000,\n",
       "         0.00000000e+000,   5.63852613e-118,   0.00000000e+000,\n",
       "         0.00000000e+000,   0.00000000e+000,   1.73266432e-045,\n",
       "         1.00000000e+000,   1.00000000e+000,   0.00000000e+000,\n",
       "         6.28803678e-151,   0.00000000e+000,   6.02081743e-258,\n",
       "         0.00000000e+000,   3.20587002e-011,   5.54891308e-047,\n",
       "         0.00000000e+000,   1.00000000e+000,   0.00000000e+000,\n",
       "         0.00000000e+000,   0.00000000e+000,   0.00000000e+000,\n",
       "         1.16993554e-027,   0.00000000e+000,   2.10309221e-200,\n",
       "         0.00000000e+000,   0.00000000e+000,   0.00000000e+000,\n",
       "         2.33870853e-113,   0.00000000e+000,   0.00000000e+000,\n",
       "         3.03242622e-052,   9.99896092e-001,   0.00000000e+000,\n",
       "         0.00000000e+000,   3.30947529e-018,   0.00000000e+000,\n",
       "         0.00000000e+000,   2.17877193e-126,   0.00000000e+000,\n",
       "         0.00000000e+000,   1.00000000e+000,   0.00000000e+000,\n",
       "         0.00000000e+000,   4.27382570e-254,   0.00000000e+000,\n",
       "         0.00000000e+000,   1.00000000e+000,   0.00000000e+000,\n",
       "         1.00000000e+000,   1.00000000e+000,   0.00000000e+000,\n",
       "         1.00000000e+000,   0.00000000e+000,   0.00000000e+000,\n",
       "         1.86706488e-096,   1.37107711e-190,   0.00000000e+000,\n",
       "         1.00000000e+000,   0.00000000e+000,   0.00000000e+000,\n",
       "         0.00000000e+000,   0.00000000e+000,   0.00000000e+000,\n",
       "         3.05973079e-306,   0.00000000e+000,   0.00000000e+000,\n",
       "         0.00000000e+000,   3.89863906e-181,   0.00000000e+000,\n",
       "         1.00000000e+000,   0.00000000e+000,   0.00000000e+000,\n",
       "         0.00000000e+000,   0.00000000e+000,   0.00000000e+000,\n",
       "         0.00000000e+000,   2.01917404e-068,   0.00000000e+000,\n",
       "         1.00000000e+000,   0.00000000e+000,   1.00000000e+000,\n",
       "         1.39177710e-297,   0.00000000e+000,   0.00000000e+000,\n",
       "         0.00000000e+000,   0.00000000e+000,   0.00000000e+000,\n",
       "         0.00000000e+000,   1.00000000e+000,   9.14326509e-007,\n",
       "         7.51376124e-188,   0.00000000e+000,   0.00000000e+000,\n",
       "         0.00000000e+000,   0.00000000e+000,   1.57348568e-211,\n",
       "         7.10166286e-018,   2.58644432e-261,   0.00000000e+000,\n",
       "         1.00000000e+000,   1.00000000e+000,   0.00000000e+000,\n",
       "         0.00000000e+000,   1.06285595e-006,   0.00000000e+000,\n",
       "         1.07066662e-074,   0.00000000e+000,   0.00000000e+000,\n",
       "         1.00000000e+000,   0.00000000e+000,   4.30653929e-008,\n",
       "         0.00000000e+000,   0.00000000e+000,   0.00000000e+000,\n",
       "         0.00000000e+000,   0.00000000e+000,   2.38070789e-248,\n",
       "         1.00000000e+000,   0.00000000e+000,   0.00000000e+000,\n",
       "         0.00000000e+000,   0.00000000e+000,   0.00000000e+000,\n",
       "         1.00000000e+000,   0.00000000e+000,   0.00000000e+000,\n",
       "         0.00000000e+000,   0.00000000e+000,   0.00000000e+000,\n",
       "         4.87532776e-167,   0.00000000e+000,   1.00000000e+000,\n",
       "         0.00000000e+000,   0.00000000e+000,   0.00000000e+000,\n",
       "         0.00000000e+000,   0.00000000e+000,   0.00000000e+000,\n",
       "         0.00000000e+000,   1.00000000e+000,   0.00000000e+000,\n",
       "         1.00000000e+000,   1.90295171e-136,   1.00000000e+000,\n",
       "         0.00000000e+000,   1.00000000e+000,   0.00000000e+000,\n",
       "         0.00000000e+000,   3.99560744e-025,   1.00000000e+000,\n",
       "         0.00000000e+000,   1.00000000e+000,   1.66820320e-114,\n",
       "         0.00000000e+000,   1.26597366e-037,   0.00000000e+000,\n",
       "         0.00000000e+000,   0.00000000e+000,   2.26001760e-177,\n",
       "         0.00000000e+000,   0.00000000e+000,   2.44680538e-153,\n",
       "         3.28703989e-194,   4.96107989e-171,   0.00000000e+000,\n",
       "         0.00000000e+000,   0.00000000e+000,   0.00000000e+000,\n",
       "         0.00000000e+000,   0.00000000e+000,   1.00000000e+000,\n",
       "         8.69031082e-233,   0.00000000e+000,   0.00000000e+000,\n",
       "         0.00000000e+000,   5.64172888e-309,   0.00000000e+000,\n",
       "         1.00000000e+000,   0.00000000e+000,   0.00000000e+000,\n",
       "         0.00000000e+000,   0.00000000e+000,   0.00000000e+000,\n",
       "         0.00000000e+000,   0.00000000e+000,   0.00000000e+000,\n",
       "         0.00000000e+000,   0.00000000e+000,   0.00000000e+000,\n",
       "         0.00000000e+000,   0.00000000e+000,   1.14247567e-025,\n",
       "         2.74179208e-083,   0.00000000e+000,   2.58644432e-261,\n",
       "         0.00000000e+000,   0.00000000e+000,   0.00000000e+000,\n",
       "         8.68345412e-250,   0.00000000e+000,   1.00000000e+000,\n",
       "         0.00000000e+000,   0.00000000e+000,   9.82546154e-001,\n",
       "         0.00000000e+000,   0.00000000e+000,   0.00000000e+000,\n",
       "         0.00000000e+000,   0.00000000e+000,   0.00000000e+000,\n",
       "         0.00000000e+000,   9.49355973e-034,   0.00000000e+000,\n",
       "         1.41251100e-176,   0.00000000e+000,   0.00000000e+000,\n",
       "         0.00000000e+000,   1.00000000e+000,   0.00000000e+000,\n",
       "         7.78950890e-117,   1.00000000e+000,   1.00000000e+000,\n",
       "         0.00000000e+000,   0.00000000e+000,   0.00000000e+000,\n",
       "         0.00000000e+000,   9.27851402e-299,   0.00000000e+000,\n",
       "         0.00000000e+000,   0.00000000e+000,   2.58524575e-234,\n",
       "         1.00000000e+000,   2.66863248e-113,   0.00000000e+000,\n",
       "         7.10955666e-181,   1.00000000e+000,   0.00000000e+000,\n",
       "         1.00000000e+000,   2.39364464e-046,   0.00000000e+000,\n",
       "         0.00000000e+000,   1.00000000e+000,   1.00000000e+000,\n",
       "         0.00000000e+000,   1.13073631e-299,   0.00000000e+000,\n",
       "         0.00000000e+000,   0.00000000e+000,   1.00000000e+000,\n",
       "         1.01929000e-252,   0.00000000e+000,   0.00000000e+000,\n",
       "         0.00000000e+000,   1.00000000e+000,   1.00000000e+000,\n",
       "         1.99196578e-105,   0.00000000e+000,   5.87520087e-180,\n",
       "         0.00000000e+000,   9.88305307e-001,   1.00000000e+000,\n",
       "         5.37469696e-296,   6.48458906e-167,   9.99999998e-001,\n",
       "         0.00000000e+000,   2.86126613e-028,   1.00000000e+000,\n",
       "         0.00000000e+000,   2.16864773e-225,   0.00000000e+000,\n",
       "         0.00000000e+000,   1.00000000e+000,   0.00000000e+000,\n",
       "         7.88286790e-280,   1.52730896e-017,   0.00000000e+000,\n",
       "         0.00000000e+000,   0.00000000e+000,   0.00000000e+000,\n",
       "         1.00000000e+000,   9.07045994e-079,   0.00000000e+000,\n",
       "         0.00000000e+000,   1.00000000e+000,   0.00000000e+000,\n",
       "         0.00000000e+000,   1.21702679e-303,   4.11258920e-067,\n",
       "         0.00000000e+000,   3.43026927e-176,   9.99999995e-001,\n",
       "         3.28125934e-070,   0.00000000e+000,   0.00000000e+000,\n",
       "         0.00000000e+000,   2.72905492e-127,   1.00000000e+000,\n",
       "         1.00000000e+000,   1.00000000e+000,   0.00000000e+000,\n",
       "         0.00000000e+000,   0.00000000e+000,   0.00000000e+000,\n",
       "         1.00000000e+000,   0.00000000e+000,   0.00000000e+000,\n",
       "         0.00000000e+000,   1.00000000e+000,   0.00000000e+000,\n",
       "         0.00000000e+000,   2.44589696e-312,   1.00000000e+000,\n",
       "         1.00000000e+000,   1.00000000e+000,   0.00000000e+000,\n",
       "         1.00000000e+000,   0.00000000e+000,   0.00000000e+000,\n",
       "         0.00000000e+000,   0.00000000e+000,   0.00000000e+000,\n",
       "         1.00000000e+000,   1.00000000e+000,   0.00000000e+000,\n",
       "         1.65292455e-282,   0.00000000e+000,   2.58644432e-261,\n",
       "         9.87682387e-264,   0.00000000e+000,   0.00000000e+000,\n",
       "         0.00000000e+000,   0.00000000e+000,   0.00000000e+000,\n",
       "         0.00000000e+000,   0.00000000e+000,   0.00000000e+000,\n",
       "         5.42579123e-115,   0.00000000e+000,   0.00000000e+000,\n",
       "         1.00000000e+000,   0.00000000e+000,   1.23598062e-089,\n",
       "         3.30519638e-240,   5.62441703e-177,   0.00000000e+000,\n",
       "         0.00000000e+000,   0.00000000e+000,   0.00000000e+000,\n",
       "         1.00000000e+000,   2.62623241e-027,   2.30398670e-205,\n",
       "         0.00000000e+000,   0.00000000e+000,   1.00000000e+000,\n",
       "         1.00000000e+000,   1.00000000e+000,   1.15300392e-144,\n",
       "         0.00000000e+000,   6.22112959e-253,   8.10318827e-223,\n",
       "         0.00000000e+000,   2.48546799e-103,   1.03645024e-049,\n",
       "         0.00000000e+000,   0.00000000e+000,   0.00000000e+000,\n",
       "         0.00000000e+000,   0.00000000e+000,   0.00000000e+000,\n",
       "         0.00000000e+000,   0.00000000e+000,   1.00000000e+000,\n",
       "         1.00000000e+000,   0.00000000e+000,   1.57636087e-260,\n",
       "         7.60222848e-153,   4.41807815e-010,   1.29655264e-082,\n",
       "         0.00000000e+000,   1.00000000e+000,   0.00000000e+000,\n",
       "         3.36404591e-138,   0.00000000e+000,   4.43152909e-298,\n",
       "         1.90228749e-238,   0.00000000e+000,   0.00000000e+000,\n",
       "         0.00000000e+000,   0.00000000e+000,   1.00000000e+000,\n",
       "         1.79301506e-115,   0.00000000e+000,   1.60091305e-010,\n",
       "         1.00000000e+000,   3.50576059e-159,   0.00000000e+000,\n",
       "         0.00000000e+000,   0.00000000e+000,   5.91427785e-104,\n",
       "         1.36765033e-293,   1.00000000e+000,   1.00000000e+000,\n",
       "         0.00000000e+000,   0.00000000e+000,   0.00000000e+000,\n",
       "         0.00000000e+000,   0.00000000e+000,   0.00000000e+000,\n",
       "         0.00000000e+000,   0.00000000e+000,   5.48954571e-092,\n",
       "         1.39868502e-318,   1.00000000e+000,   1.00000000e+000,\n",
       "         0.00000000e+000,   1.00000000e+000,   0.00000000e+000,\n",
       "         8.29819284e-020,   0.00000000e+000,   0.00000000e+000,\n",
       "         0.00000000e+000,   0.00000000e+000,   0.00000000e+000,\n",
       "         0.00000000e+000,   0.00000000e+000,   0.00000000e+000,\n",
       "         4.93510704e-066,   0.00000000e+000,   0.00000000e+000,\n",
       "         1.00000000e+000,   1.29322216e-260,   0.00000000e+000,\n",
       "         0.00000000e+000,   0.00000000e+000,   2.09068962e-165,\n",
       "         6.12389561e-164,   0.00000000e+000,   0.00000000e+000,\n",
       "         1.89630916e-227,   1.44112883e-182,   9.48409896e-318,\n",
       "         1.00000000e+000,   0.00000000e+000,   1.82819164e-162,\n",
       "         1.00000000e+000,   1.00000000e+000,   1.00000000e+000,\n",
       "         0.00000000e+000,   0.00000000e+000,   0.00000000e+000,\n",
       "         0.00000000e+000,   1.85570280e-297,   1.00000000e+000,\n",
       "         1.00000000e+000,   0.00000000e+000,   1.00000000e+000,\n",
       "         0.00000000e+000,   0.00000000e+000,   0.00000000e+000,\n",
       "         0.00000000e+000,   1.08127523e-068,   0.00000000e+000,\n",
       "         0.00000000e+000,   0.00000000e+000,   0.00000000e+000,\n",
       "         1.36110291e-185,   0.00000000e+000,   0.00000000e+000,\n",
       "         0.00000000e+000,   0.00000000e+000,   0.00000000e+000,\n",
       "         6.60836947e-098,   0.00000000e+000,   2.14948484e-272,\n",
       "         5.78501061e-082,   1.65921785e-015,   1.00000000e+000,\n",
       "         1.00000000e+000,   4.09076689e-019,   5.81729483e-069,\n",
       "         0.00000000e+000,   0.00000000e+000,   1.00000000e+000,\n",
       "         3.08801900e-282,   0.00000000e+000,   0.00000000e+000,\n",
       "         1.00000000e+000,   0.00000000e+000,   0.00000000e+000])"
      ]
     },
     "execution_count": 21,
     "metadata": {},
     "output_type": "execute_result"
    }
   ],
   "source": [
    "y_pred_prob = nb.predict_proba(X_test_dtm)[:, 1]\n",
    "y_pred_prob"
   ]
  },
  {
   "cell_type": "code",
   "execution_count": 22,
   "metadata": {},
   "outputs": [
    {
     "data": {
      "text/plain": [
       "LogisticRegression(C=1.0, class_weight=None, dual=False, fit_intercept=True,\n",
       "          intercept_scaling=1, max_iter=100, multi_class='ovr', n_jobs=1,\n",
       "          penalty='l2', random_state=None, solver='liblinear', tol=0.0001,\n",
       "          verbose=0, warm_start=False)"
      ]
     },
     "execution_count": 22,
     "metadata": {},
     "output_type": "execute_result"
    }
   ],
   "source": [
    "#use logistic regression model to test\n",
    "logreg = LogisticRegression()\n",
    "logreg.fit(X_train_dtm, y_train)"
   ]
  },
  {
   "cell_type": "code",
   "execution_count": 30,
   "metadata": {
    "collapsed": true
   },
   "outputs": [],
   "source": [
    "y_pred_class = logreg.predict(X_test_dtm)"
   ]
  },
  {
   "cell_type": "code",
   "execution_count": 31,
   "metadata": {},
   "outputs": [
    {
     "data": {
      "text/plain": [
       "0.62334536702767751"
      ]
     },
     "execution_count": 31,
     "metadata": {},
     "output_type": "execute_result"
    }
   ],
   "source": [
    "#the accuracy using log_regression model\n",
    "metrics.accuracy_score(y_test, y_pred_class)"
   ]
  },
  {
   "cell_type": "code",
   "execution_count": null,
   "metadata": {
    "collapsed": true
   },
   "outputs": [],
   "source": [
    "#use KNN model to test"
   ]
  },
  {
   "cell_type": "code",
   "execution_count": 26,
   "metadata": {},
   "outputs": [
    {
     "data": {
      "text/plain": [
       "KNeighborsClassifier(algorithm='auto', leaf_size=30, metric='minkowski',\n",
       "           metric_params=None, n_jobs=1, n_neighbors=1, p=2,\n",
       "           weights='uniform')"
      ]
     },
     "execution_count": 26,
     "metadata": {},
     "output_type": "execute_result"
    }
   ],
   "source": [
    "knn = KNeighborsClassifier(n_neighbors=1)\n",
    "knn.fit(X_train_dtm, y_train)"
   ]
  },
  {
   "cell_type": "code",
   "execution_count": 32,
   "metadata": {
    "collapsed": true
   },
   "outputs": [],
   "source": [
    "y_pred_class_knn= knn.predict(X_test_dtm)"
   ]
  },
  {
   "cell_type": "code",
   "execution_count": 33,
   "metadata": {},
   "outputs": [
    {
     "data": {
      "text/plain": [
       "0.5703971119133574"
      ]
     },
     "execution_count": 33,
     "metadata": {},
     "output_type": "execute_result"
    }
   ],
   "source": [
    "#get the accuracy using knn model\n",
    "metrics.accuracy_score(y_test, y_pred_class_knn)"
   ]
  }
 ],
 "metadata": {
  "kernelspec": {
   "display_name": "Python 3",
   "language": "python",
   "name": "python3"
  },
  "language_info": {
   "codemirror_mode": {
    "name": "ipython",
    "version": 3
   },
   "file_extension": ".py",
   "mimetype": "text/x-python",
   "name": "python",
   "nbconvert_exporter": "python",
   "pygments_lexer": "ipython3",
   "version": "3.6.1"
  }
 },
 "nbformat": 4,
 "nbformat_minor": 2
}
